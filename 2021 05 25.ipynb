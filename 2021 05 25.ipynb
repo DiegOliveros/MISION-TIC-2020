{
 "cells": [
  {
   "cell_type": "markdown",
   "id": "d4ebcef8",
   "metadata": {},
   "source": [
    "# TEST 1"
   ]
  },
  {
   "cell_type": "markdown",
   "id": "a35e7874",
   "metadata": {},
   "source": [
    "### 1.1\n",
    "Print \"Hello World\" if a is greater than b."
   ]
  },
  {
   "cell_type": "code",
   "execution_count": null,
   "id": "29289b36",
   "metadata": {},
   "outputs": [],
   "source": [
    "a = 50\n",
    "b = 10\n",
    "  a   b \n",
    "  print(\"Hello World\")"
   ]
  },
  {
   "cell_type": "markdown",
   "id": "d4aff753",
   "metadata": {},
   "source": [
    "### answer"
   ]
  },
  {
   "cell_type": "code",
   "execution_count": null,
   "id": "344ae855",
   "metadata": {},
   "outputs": [],
   "source": []
  },
  {
   "cell_type": "markdown",
   "id": "908fefd9",
   "metadata": {},
   "source": [
    "### 1.2\n",
    "Print \"Hello World\" if a is not equal to b."
   ]
  },
  {
   "cell_type": "code",
   "execution_count": null,
   "id": "ee6413ae",
   "metadata": {},
   "outputs": [],
   "source": [
    "a = 50\n",
    "b = 10\n",
    "  a   b \n",
    "  print(\"Hello World\")\n"
   ]
  },
  {
   "cell_type": "markdown",
   "id": "6130de4a",
   "metadata": {},
   "source": [
    "### answer"
   ]
  },
  {
   "cell_type": "code",
   "execution_count": null,
   "id": "ec706adc",
   "metadata": {},
   "outputs": [],
   "source": []
  },
  {
   "cell_type": "markdown",
   "id": "fa2d191e",
   "metadata": {},
   "source": [
    "### 1.3 \n",
    "Print \"Yes\" if a is equal to b, otherwise print \"No\"."
   ]
  },
  {
   "cell_type": "code",
   "execution_count": null,
   "id": "b7f2bd05",
   "metadata": {},
   "outputs": [],
   "source": [
    "= 50\n",
    "b = 10\n",
    "  a   b \n",
    "  print(\"Yes\")\n",
    " \n",
    "  print(\"No\")"
   ]
  },
  {
   "cell_type": "markdown",
   "id": "15a6e184",
   "metadata": {},
   "source": [
    "### answer"
   ]
  },
  {
   "cell_type": "code",
   "execution_count": null,
   "id": "ac2b26a3",
   "metadata": {},
   "outputs": [],
   "source": []
  },
  {
   "cell_type": "markdown",
   "id": "7dc6edef",
   "metadata": {},
   "source": [
    "### 1.4\n",
    "Print \"1\" if a is equal to b, print \"2\" if a is greater than b, otherwise print \"3\"."
   ]
  },
  {
   "cell_type": "code",
   "execution_count": null,
   "id": "70564e05",
   "metadata": {},
   "outputs": [],
   "source": [
    "a = 50\n",
    "b = 10\n",
    "  a   b \n",
    "  print(\"1\")\n",
    "  a   b \n",
    "  print(\"2\")\n",
    " \n",
    "  print(\"3\")"
   ]
  },
  {
   "cell_type": "markdown",
   "id": "162a723c",
   "metadata": {},
   "source": [
    "### answer"
   ]
  },
  {
   "cell_type": "code",
   "execution_count": null,
   "id": "4d2bc733",
   "metadata": {},
   "outputs": [],
   "source": []
  },
  {
   "cell_type": "markdown",
   "id": "9d5f08f1",
   "metadata": {},
   "source": [
    "### 1.5 \n",
    "Print \"Hello\" if a is equal to b, and c is equal to d."
   ]
  },
  {
   "cell_type": "code",
   "execution_count": null,
   "id": "1d1ca51c",
   "metadata": {},
   "outputs": [],
   "source": [
    "if a == b   c == d:\n",
    "  print(\"Hello\")"
   ]
  },
  {
   "cell_type": "markdown",
   "id": "6aa0d98f",
   "metadata": {},
   "source": [
    "### answer"
   ]
  },
  {
   "cell_type": "code",
   "execution_count": null,
   "id": "c10ed4d9",
   "metadata": {},
   "outputs": [],
   "source": []
  },
  {
   "cell_type": "markdown",
   "id": "79a77d1c",
   "metadata": {},
   "source": [
    "### 1.6 \n",
    "Print \"Hello\" if a is equal to b, or if c is equal to d.\n"
   ]
  },
  {
   "cell_type": "code",
   "execution_count": null,
   "id": "af1586a4",
   "metadata": {},
   "outputs": [],
   "source": [
    "if a == b   c == d:\n",
    "  print(\"Hello\")"
   ]
  },
  {
   "cell_type": "markdown",
   "id": "ed4627a7",
   "metadata": {},
   "source": [
    "### answer"
   ]
  },
  {
   "cell_type": "code",
   "execution_count": null,
   "id": "0b27837b",
   "metadata": {},
   "outputs": [],
   "source": []
  },
  {
   "cell_type": "markdown",
   "id": "883c66b4",
   "metadata": {},
   "source": [
    "### 1.7 \n",
    "This example misses indentations to be correct.\n",
    "Insert the missing indentation to make the code correct:"
   ]
  },
  {
   "cell_type": "code",
   "execution_count": null,
   "id": "1c5537a9",
   "metadata": {},
   "outputs": [],
   "source": [
    "if 5 > 2:\n",
    "print(\"Five is greater than two!\")"
   ]
  },
  {
   "cell_type": "markdown",
   "id": "2e58298e",
   "metadata": {},
   "source": [
    "### answer"
   ]
  },
  {
   "cell_type": "code",
   "execution_count": null,
   "id": "c086f97f",
   "metadata": {},
   "outputs": [],
   "source": []
  },
  {
   "cell_type": "markdown",
   "id": "d965644b",
   "metadata": {},
   "source": [
    "### 1.8\n",
    "Use the correct short hand syntax to put the following statement on one line:"
   ]
  },
  {
   "cell_type": "code",
   "execution_count": null,
   "id": "e3fcb6ad",
   "metadata": {},
   "outputs": [],
   "source": [
    "if 5 > 2:\n",
    " print(\"Five is greater than two!\")"
   ]
  },
  {
   "cell_type": "markdown",
   "id": "1fa2e33f",
   "metadata": {},
   "source": [
    "### answer"
   ]
  },
  {
   "cell_type": "code",
   "execution_count": null,
   "id": "1e368f45",
   "metadata": {},
   "outputs": [],
   "source": []
  },
  {
   "cell_type": "markdown",
   "id": "37af1ed4",
   "metadata": {},
   "source": [
    "### 1.9\n",
    "Use the correct short hand syntax to write the following conditional expression in **one line:**"
   ]
  },
  {
   "cell_type": "code",
   "execution_count": null,
   "id": "10960676",
   "metadata": {},
   "outputs": [],
   "source": [
    "if 5 > 2:\n",
    "   print(\"Yes\")\n",
    "else\n",
    "   print(\"No\")"
   ]
  },
  {
   "cell_type": "markdown",
   "id": "d0aaf484",
   "metadata": {},
   "source": [
    "### answer"
   ]
  },
  {
   "cell_type": "code",
   "execution_count": null,
   "id": "796a6a2a",
   "metadata": {},
   "outputs": [],
   "source": []
  },
  {
   "cell_type": "markdown",
   "id": "595f07d2",
   "metadata": {},
   "source": [
    "### 2\n",
    "Print i as long as i is less than 6"
   ]
  },
  {
   "cell_type": "code",
   "execution_count": null,
   "id": "1430be9e",
   "metadata": {},
   "outputs": [],
   "source": [
    "i = 1\n",
    "  i < 6 \n",
    "  print(i)\n",
    "  i += 1"
   ]
  },
  {
   "cell_type": "markdown",
   "id": "297bc10c",
   "metadata": {},
   "source": [
    "### answer"
   ]
  },
  {
   "cell_type": "code",
   "execution_count": null,
   "id": "8b7571d9",
   "metadata": {},
   "outputs": [],
   "source": []
  },
  {
   "cell_type": "markdown",
   "id": "f031f301",
   "metadata": {},
   "source": [
    "### 2.1\n",
    "Print i as long as i is less than 6"
   ]
  },
  {
   "cell_type": "code",
   "execution_count": null,
   "id": "5651915b",
   "metadata": {},
   "outputs": [],
   "source": [
    "i = 1\n",
    "  i < 6 \n",
    "  print(i)\n",
    "  i += 1"
   ]
  },
  {
   "cell_type": "code",
   "execution_count": null,
   "id": "8d8d8e1a",
   "metadata": {},
   "outputs": [],
   "source": []
  },
  {
   "cell_type": "markdown",
   "id": "0c43cc67",
   "metadata": {},
   "source": [
    "### answer"
   ]
  },
  {
   "cell_type": "code",
   "execution_count": null,
   "id": "d44e9166",
   "metadata": {},
   "outputs": [],
   "source": []
  },
  {
   "cell_type": "markdown",
   "id": "8ba3996c",
   "metadata": {},
   "source": [
    "### 2.2\n",
    "Stop the loop if i is 3."
   ]
  },
  {
   "cell_type": "code",
   "execution_count": null,
   "id": "77c785b8",
   "metadata": {},
   "outputs": [],
   "source": [
    "i = 1\n",
    "while i < 6:\n",
    "  if i == 3:   \n",
    "\n",
    "  i += 1"
   ]
  },
  {
   "cell_type": "markdown",
   "id": "8bc36f60",
   "metadata": {},
   "source": [
    "### answer"
   ]
  },
  {
   "cell_type": "code",
   "execution_count": null,
   "id": "857ff61d",
   "metadata": {},
   "outputs": [],
   "source": []
  },
  {
   "cell_type": "markdown",
   "id": "ac5d08a6",
   "metadata": {},
   "source": [
    "### 2.3\n",
    "In the loop, when i is 3, jump directly to the next iteration."
   ]
  },
  {
   "cell_type": "code",
   "execution_count": null,
   "id": "a35f9345",
   "metadata": {},
   "outputs": [],
   "source": [
    "i = 0\n",
    "while i < 6:\n",
    "  i += 1\n",
    "  if i == 3:\n",
    "     \n",
    "  print(i)"
   ]
  },
  {
   "cell_type": "markdown",
   "id": "0318d6ee",
   "metadata": {},
   "source": [
    "### answer"
   ]
  },
  {
   "cell_type": "code",
   "execution_count": null,
   "id": "e5391afc",
   "metadata": {},
   "outputs": [],
   "source": []
  },
  {
   "cell_type": "markdown",
   "id": "9c8dfad3",
   "metadata": {},
   "source": [
    "### 2.4\n",
    "Print a message once the condition is false."
   ]
  },
  {
   "cell_type": "code",
   "execution_count": null,
   "id": "b0a87e07",
   "metadata": {},
   "outputs": [],
   "source": [
    "i = 1\n",
    "while i < 6:\n",
    "  print(i)\n",
    "  i += 1\n",
    " \n",
    "  print(\"i is no longer less than 6\")"
   ]
  },
  {
   "cell_type": "markdown",
   "id": "7165a384",
   "metadata": {},
   "source": [
    "### answer"
   ]
  },
  {
   "cell_type": "code",
   "execution_count": null,
   "id": "cedf5c89",
   "metadata": {},
   "outputs": [],
   "source": []
  },
  {
   "cell_type": "markdown",
   "id": "aa2f9bbb",
   "metadata": {},
   "source": [
    "### 2.5\n",
    "Loop through the items in the fruits list."
   ]
  },
  {
   "cell_type": "code",
   "execution_count": null,
   "id": "87efac0b",
   "metadata": {},
   "outputs": [],
   "source": [
    "fruits = [\"apple\", \"banana\", \"cherry\"]\n",
    "  x   fruits \n",
    "  print(x)"
   ]
  },
  {
   "cell_type": "markdown",
   "id": "ba1d2023",
   "metadata": {},
   "source": [
    "### answer"
   ]
  },
  {
   "cell_type": "code",
   "execution_count": null,
   "id": "69f9013d",
   "metadata": {},
   "outputs": [],
   "source": []
  },
  {
   "cell_type": "markdown",
   "id": "19e6aa97",
   "metadata": {},
   "source": [
    "### 2.6 \n",
    "In the loop, when the item value is \"banana\", jump directly to the next item."
   ]
  },
  {
   "cell_type": "code",
   "execution_count": null,
   "id": "861a7d65",
   "metadata": {},
   "outputs": [],
   "source": [
    "fruits = [\"apple\", \"banana\", \"cherry\"]\n",
    "for x in fruits:\n",
    "  if x == \"banana\":\n",
    "     \n",
    "  print(x)"
   ]
  },
  {
   "cell_type": "markdown",
   "id": "d6f11b65",
   "metadata": {},
   "source": [
    "### answer"
   ]
  },
  {
   "cell_type": "code",
   "execution_count": null,
   "id": "1c638418",
   "metadata": {},
   "outputs": [],
   "source": []
  },
  {
   "cell_type": "markdown",
   "id": "41850ca3",
   "metadata": {},
   "source": [
    "### 2.7\n",
    "Use the range function to loop through a code set 6 times."
   ]
  },
  {
   "cell_type": "code",
   "execution_count": null,
   "id": "eec2c7dc",
   "metadata": {},
   "outputs": [],
   "source": [
    "for x in  :\n",
    "  print(x)"
   ]
  },
  {
   "cell_type": "markdown",
   "id": "600d5283",
   "metadata": {},
   "source": [
    "### answer"
   ]
  },
  {
   "cell_type": "code",
   "execution_count": null,
   "id": "9d6f3eb8",
   "metadata": {},
   "outputs": [],
   "source": []
  },
  {
   "cell_type": "markdown",
   "id": "bb44eac5",
   "metadata": {},
   "source": [
    "### 2.8\n",
    "Exit the loop when x is \"banana\"."
   ]
  },
  {
   "cell_type": "code",
   "execution_count": null,
   "id": "173b950c",
   "metadata": {},
   "outputs": [],
   "source": [
    "fruits = [\"apple\", \"banana\", \"cherry\"]\n",
    "for x in fruits:\n",
    "  if x == \"banana\":\n",
    "     \n",
    "  print(x)"
   ]
  },
  {
   "cell_type": "markdown",
   "id": "2d01d93f",
   "metadata": {},
   "source": [
    "### answer"
   ]
  },
  {
   "cell_type": "code",
   "execution_count": null,
   "id": "b037df88",
   "metadata": {},
   "outputs": [],
   "source": []
  }
 ],
 "metadata": {
  "kernelspec": {
   "display_name": "Python 3",
   "language": "python",
   "name": "python3"
  },
  "language_info": {
   "codemirror_mode": {
    "name": "ipython",
    "version": 3
   },
   "file_extension": ".py",
   "mimetype": "text/x-python",
   "name": "python",
   "nbconvert_exporter": "python",
   "pygments_lexer": "ipython3",
   "version": "3.8.8"
  }
 },
 "nbformat": 4,
 "nbformat_minor": 5
}
