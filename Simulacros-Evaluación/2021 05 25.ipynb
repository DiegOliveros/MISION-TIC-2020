{
 "cells": [
  {
   "cell_type": "markdown",
   "id": "a60a279d",
   "metadata": {},
   "source": [
    "*[2021 05 25 MISÍON TIC 2022 Diego Oliveros]*\n",
    "\n",
    "# TEST 1\n",
    "The following exam will help you review the topics of variables, operations, loops, and conditionals.\n",
    "First the objective of the program will be shown, then a help code will appear and finally a blank space for your answer."
   ]
  },
  {
   "cell_type": "markdown",
   "id": "03ecfd57",
   "metadata": {},
   "source": [
    "### 1.1\n",
    "Print \"Hello World\" if a is greater than b."
   ]
  },
  {
   "cell_type": "code",
   "execution_count": null,
   "id": "09cd19df",
   "metadata": {},
   "outputs": [],
   "source": [
    "a = 50\n",
    "b = 10\n",
    "  a   b \n",
    "  print(\"Hello World\")"
   ]
  },
  {
   "cell_type": "markdown",
   "id": "0b11fc09",
   "metadata": {},
   "source": [
    "### answer"
   ]
  },
  {
   "cell_type": "code",
   "execution_count": null,
   "id": "482c729c",
   "metadata": {},
   "outputs": [],
   "source": []
  },
  {
   "cell_type": "markdown",
   "id": "86073aba",
   "metadata": {},
   "source": [
    "### 1.2\n",
    "Print \"Hello World\" if a is not equal to b."
   ]
  },
  {
   "cell_type": "code",
   "execution_count": null,
   "id": "45a1aa21",
   "metadata": {},
   "outputs": [],
   "source": [
    "a = 50\n",
    "b = 10\n",
    "  a   b \n",
    "  print(\"Hello World\")"
   ]
  },
  {
   "cell_type": "markdown",
   "id": "0e5fc798",
   "metadata": {},
   "source": [
    "### answer"
   ]
  },
  {
   "cell_type": "code",
   "execution_count": null,
   "id": "5f4575c3",
   "metadata": {},
   "outputs": [],
   "source": []
  },
  {
   "cell_type": "markdown",
   "id": "0b335a6b",
   "metadata": {},
   "source": [
    "### 1.3 \n",
    "Print \"Yes\" if a is equal to b, otherwise print \"No\"."
   ]
  },
  {
   "cell_type": "code",
   "execution_count": null,
   "id": "1971c2ab",
   "metadata": {},
   "outputs": [],
   "source": [
    "= 50\n",
    "b = 10\n",
    "  a   b \n",
    "  print(\"Yes\")\n",
    " \n",
    "  print(\"No\")"
   ]
  },
  {
   "cell_type": "markdown",
   "id": "acd5ff5b",
   "metadata": {},
   "source": [
    "### answer"
   ]
  },
  {
   "cell_type": "code",
   "execution_count": null,
   "id": "0182958f",
   "metadata": {},
   "outputs": [],
   "source": []
  },
  {
   "cell_type": "markdown",
   "id": "835079a5",
   "metadata": {},
   "source": [
    "### 1.4\n",
    "Print \"1\" if a is equal to b, print \"2\" if a is greater than b, otherwise print \"3\"."
   ]
  },
  {
   "cell_type": "code",
   "execution_count": null,
   "id": "b3a52128",
   "metadata": {},
   "outputs": [],
   "source": [
    "a = 50\n",
    "b = 10\n",
    "  a   b \n",
    "  print(\"1\")\n",
    "  a   b \n",
    "  print(\"2\")\n",
    " \n",
    "  print(\"3\")"
   ]
  },
  {
   "cell_type": "markdown",
   "id": "86a66f59",
   "metadata": {},
   "source": [
    "### answer"
   ]
  },
  {
   "cell_type": "code",
   "execution_count": null,
   "id": "c99c0768",
   "metadata": {},
   "outputs": [],
   "source": []
  },
  {
   "cell_type": "markdown",
   "id": "30544b60",
   "metadata": {},
   "source": [
    "### 1.5 \n",
    "Print \"Hello\" if a is equal to b, and c is equal to d."
   ]
  },
  {
   "cell_type": "code",
   "execution_count": null,
   "id": "12efb005",
   "metadata": {},
   "outputs": [],
   "source": [
    "if a == b   c == d:\n",
    "  print(\"Hello\")"
   ]
  },
  {
   "cell_type": "markdown",
   "id": "6529d615",
   "metadata": {},
   "source": [
    "### answer"
   ]
  },
  {
   "cell_type": "code",
   "execution_count": null,
   "id": "e689bfc2",
   "metadata": {},
   "outputs": [],
   "source": []
  },
  {
   "cell_type": "markdown",
   "id": "9f52dd9b",
   "metadata": {},
   "source": [
    "### 1.6 \n",
    "Print \"Hello\" if a is equal to b, or if c is equal to d.\n"
   ]
  },
  {
   "cell_type": "code",
   "execution_count": null,
   "id": "1b03a506",
   "metadata": {},
   "outputs": [],
   "source": [
    "if a == b   c == d:\n",
    "  print(\"Hello\")"
   ]
  },
  {
   "cell_type": "markdown",
   "id": "b90c6ebb",
   "metadata": {},
   "source": [
    "### answer"
   ]
  },
  {
   "cell_type": "code",
   "execution_count": null,
   "id": "b1f82b7c",
   "metadata": {},
   "outputs": [],
   "source": []
  },
  {
   "cell_type": "markdown",
   "id": "5fceebf6",
   "metadata": {},
   "source": [
    "### 1.7 \n",
    "This example misses indentations to be correct.\n",
    "Insert the missing indentation to make the code correct:"
   ]
  },
  {
   "cell_type": "code",
   "execution_count": null,
   "id": "81cecc8e",
   "metadata": {},
   "outputs": [],
   "source": [
    "if 5 > 2:\n",
    "print(\"Five is greater than two!\")"
   ]
  },
  {
   "cell_type": "markdown",
   "id": "302030db",
   "metadata": {},
   "source": [
    "### answer"
   ]
  },
  {
   "cell_type": "code",
   "execution_count": null,
   "id": "8a961e4b",
   "metadata": {},
   "outputs": [],
   "source": []
  },
  {
   "cell_type": "markdown",
   "id": "0a05a203",
   "metadata": {},
   "source": [
    "### 1.8\n",
    "Use the correct short hand syntax to put the following statement on one line:"
   ]
  },
  {
   "cell_type": "code",
   "execution_count": null,
   "id": "885770a0",
   "metadata": {},
   "outputs": [],
   "source": [
    "if 5 > 2:\n",
    " print(\"Five is greater than two!\")"
   ]
  },
  {
   "cell_type": "markdown",
   "id": "0d49ff0d",
   "metadata": {},
   "source": [
    "### answer"
   ]
  },
  {
   "cell_type": "code",
   "execution_count": null,
   "id": "4a418990",
   "metadata": {},
   "outputs": [],
   "source": []
  },
  {
   "cell_type": "markdown",
   "id": "ba0e326d",
   "metadata": {},
   "source": [
    "### 1.9\n",
    "Use the correct short hand syntax to write the following conditional expression in **one line:**"
   ]
  },
  {
   "cell_type": "code",
   "execution_count": null,
   "id": "55800d0f",
   "metadata": {},
   "outputs": [],
   "source": [
    "if 5 > 2:\n",
    "   print(\"Yes\")\n",
    "else\n",
    "   print(\"No\")"
   ]
  },
  {
   "cell_type": "markdown",
   "id": "49b09608",
   "metadata": {},
   "source": [
    "### answer"
   ]
  },
  {
   "cell_type": "code",
   "execution_count": null,
   "id": "7e6b2e2d",
   "metadata": {},
   "outputs": [],
   "source": []
  },
  {
   "cell_type": "markdown",
   "id": "b44a3dd9",
   "metadata": {},
   "source": [
    "### 2\n",
    "Print i as long as i is less than 6"
   ]
  },
  {
   "cell_type": "code",
   "execution_count": null,
   "id": "119e18a0",
   "metadata": {},
   "outputs": [],
   "source": [
    "i = 1\n",
    "  i < 6 \n",
    "  print(i)\n",
    "  i += 1"
   ]
  },
  {
   "cell_type": "markdown",
   "id": "d563bd68",
   "metadata": {},
   "source": [
    "### answer"
   ]
  },
  {
   "cell_type": "code",
   "execution_count": null,
   "id": "94740807",
   "metadata": {},
   "outputs": [],
   "source": []
  },
  {
   "cell_type": "markdown",
   "id": "c19645c1",
   "metadata": {},
   "source": [
    "### 2.1\n",
    "Print i as long as i is less than 6"
   ]
  },
  {
   "cell_type": "code",
   "execution_count": null,
   "id": "97c6125d",
   "metadata": {},
   "outputs": [],
   "source": [
    "i = 1\n",
    "  i < 6 \n",
    "  print(i)\n",
    "  i += 1"
   ]
  },
  {
   "cell_type": "code",
   "execution_count": null,
   "id": "ee81d637",
   "metadata": {},
   "outputs": [],
   "source": []
  },
  {
   "cell_type": "markdown",
   "id": "6de8f0b3",
   "metadata": {},
   "source": [
    "### answer"
   ]
  },
  {
   "cell_type": "code",
   "execution_count": null,
   "id": "453a8cc8",
   "metadata": {},
   "outputs": [],
   "source": []
  },
  {
   "cell_type": "markdown",
   "id": "6a50ab93",
   "metadata": {},
   "source": [
    "### 2.2\n",
    "Stop the loop if i is 3."
   ]
  },
  {
   "cell_type": "code",
   "execution_count": null,
   "id": "431d7d0f",
   "metadata": {},
   "outputs": [],
   "source": [
    "i = 1\n",
    "while i < 6:\n",
    "  if i == 3:   \n",
    "\n",
    "  i += 1"
   ]
  },
  {
   "cell_type": "markdown",
   "id": "b2e67b8a",
   "metadata": {},
   "source": [
    "### answer"
   ]
  },
  {
   "cell_type": "code",
   "execution_count": null,
   "id": "5e8792f7",
   "metadata": {},
   "outputs": [],
   "source": []
  },
  {
   "cell_type": "markdown",
   "id": "cba1d721",
   "metadata": {},
   "source": [
    "### 2.3\n",
    "In the loop, when i is 3, jump directly to the next iteration."
   ]
  },
  {
   "cell_type": "code",
   "execution_count": null,
   "id": "5b8aae57",
   "metadata": {},
   "outputs": [],
   "source": [
    "i = 0\n",
    "while i < 6:\n",
    "  i += 1\n",
    "  if i == 3:\n",
    "     \n",
    "  print(i)"
   ]
  },
  {
   "cell_type": "markdown",
   "id": "d108775f",
   "metadata": {},
   "source": [
    "### answer"
   ]
  },
  {
   "cell_type": "code",
   "execution_count": null,
   "id": "eed7ecd4",
   "metadata": {},
   "outputs": [],
   "source": []
  },
  {
   "cell_type": "markdown",
   "id": "f4685e47",
   "metadata": {},
   "source": [
    "### 2.4\n",
    "Print a message once the condition is false."
   ]
  },
  {
   "cell_type": "code",
   "execution_count": null,
   "id": "639ca421",
   "metadata": {},
   "outputs": [],
   "source": [
    "i = 1\n",
    "while i < 6:\n",
    "  print(i)\n",
    "  i += 1\n",
    " \n",
    "  print(\"i is no longer less than 6\")"
   ]
  },
  {
   "cell_type": "markdown",
   "id": "84c3591f",
   "metadata": {},
   "source": [
    "### answer"
   ]
  },
  {
   "cell_type": "code",
   "execution_count": null,
   "id": "b41a8bec",
   "metadata": {},
   "outputs": [],
   "source": []
  },
  {
   "cell_type": "markdown",
   "id": "a3626736",
   "metadata": {},
   "source": [
    "### 2.5\n",
    "Loop through the items in the fruits list."
   ]
  },
  {
   "cell_type": "code",
   "execution_count": null,
   "id": "2cf539a3",
   "metadata": {},
   "outputs": [],
   "source": [
    "fruits = [\"apple\", \"banana\", \"cherry\"]\n",
    "  x   fruits \n",
    "  print(x)"
   ]
  },
  {
   "cell_type": "markdown",
   "id": "642cb98e",
   "metadata": {},
   "source": [
    "### answer"
   ]
  },
  {
   "cell_type": "code",
   "execution_count": null,
   "id": "f24b2b72",
   "metadata": {},
   "outputs": [],
   "source": []
  },
  {
   "cell_type": "markdown",
   "id": "580300e0",
   "metadata": {},
   "source": [
    "### 2.6 \n",
    "In the loop, when the item value is \"banana\", jump directly to the next item."
   ]
  },
  {
   "cell_type": "code",
   "execution_count": null,
   "id": "3d37fb93",
   "metadata": {},
   "outputs": [],
   "source": [
    "fruits = [\"apple\", \"banana\", \"cherry\"]\n",
    "for x in fruits:\n",
    "  if x == \"banana\":\n",
    "     \n",
    "  print(x)"
   ]
  },
  {
   "cell_type": "markdown",
   "id": "bd1db440",
   "metadata": {},
   "source": [
    "### answer"
   ]
  },
  {
   "cell_type": "code",
   "execution_count": null,
   "id": "bd30b32b",
   "metadata": {},
   "outputs": [],
   "source": []
  },
  {
   "cell_type": "markdown",
   "id": "f5391760",
   "metadata": {},
   "source": [
    "### 2.7\n",
    "Use the range function to loop through a code set 6 times."
   ]
  },
  {
   "cell_type": "code",
   "execution_count": null,
   "id": "7fd03efb",
   "metadata": {},
   "outputs": [],
   "source": [
    "for x in  :\n",
    "  print(x)"
   ]
  },
  {
   "cell_type": "markdown",
   "id": "2ec1f30a",
   "metadata": {},
   "source": [
    "### answer"
   ]
  },
  {
   "cell_type": "code",
   "execution_count": null,
   "id": "97c1ad57",
   "metadata": {},
   "outputs": [],
   "source": []
  },
  {
   "cell_type": "markdown",
   "id": "e36f08a3",
   "metadata": {},
   "source": [
    "### 2.8\n",
    "Exit the loop when x is \"banana\"."
   ]
  },
  {
   "cell_type": "code",
   "execution_count": null,
   "id": "adeeb893",
   "metadata": {},
   "outputs": [],
   "source": [
    "fruits = [\"apple\", \"banana\", \"cherry\"]\n",
    "for x in fruits:\n",
    "  if x == \"banana\":\n",
    "     \n",
    "  print(x)"
   ]
  },
  {
   "cell_type": "markdown",
   "id": "f64389b3",
   "metadata": {},
   "source": [
    "### answer"
   ]
  },
  {
   "cell_type": "code",
   "execution_count": null,
   "id": "74b5bb3a",
   "metadata": {},
   "outputs": [],
   "source": []
  }
 ],
 "metadata": {
  "kernelspec": {
   "display_name": "Python 3",
   "language": "python",
   "name": "python3"
  },
  "language_info": {
   "codemirror_mode": {
    "name": "ipython",
    "version": 3
   },
   "file_extension": ".py",
   "mimetype": "text/x-python",
   "name": "python",
   "nbconvert_exporter": "python",
   "pygments_lexer": "ipython3",
   "version": "3.8.8"
  }
 },
 "nbformat": 4,
 "nbformat_minor": 5
}
