{
 "cells": [
  {
   "cell_type": "markdown",
   "id": "b2d5f2de",
   "metadata": {},
   "source": [
    "2021 05 // Diego Oliveros."
   ]
  },
  {
   "cell_type": "markdown",
   "id": "7483852f",
   "metadata": {},
   "source": [
    "# 1. Write a function that returns the sum of two numbers.\n",
    "\n",
    "## Example\n",
    "\n",
    "For param1 = 1 and param2 = 2, the output should be\n",
    "add(param1, param2) = 3.\n",
    "\n",
    "## Input/Output\n",
    "\n",
    "[execution time limit] 4 seconds (py3)\n",
    "\n",
    "[input] integer param1\n",
    "\n",
    "## Guaranteed constraints:\n",
    "-1000 ≤ param1 ≤ 1000.\n",
    "\n",
    "[input] integer param2\n",
    "\n",
    "## Guaranteed constraints:\n",
    "-1000 ≤ param2 ≤ 1000.\n",
    "\n",
    "[output] integer\n",
    "\n",
    "The sum of the two inputs.\n"
   ]
  },
  {
   "cell_type": "markdown",
   "id": "a2644449",
   "metadata": {},
   "source": [
    "### [Python 3] Syntax Tips"
   ]
  },
  {
   "cell_type": "code",
   "execution_count": null,
   "id": "8f4125f7",
   "metadata": {},
   "outputs": [],
   "source": [
    "# Prints help message to the console\n",
    "# Returns a string\n",
    "def helloWorld(name):\n",
    "    print \"This prints to the console when you Run Tests\"\n",
    "    return \"Hello, \" + name"
   ]
  },
  {
   "cell_type": "markdown",
   "id": "1215ae2c",
   "metadata": {},
   "source": [
    "## 2. Given a year, return the century it is in. The first century spans from the year 1 up to and including the year 100, the second - from the year 101 up to and including the year 200, etc."
   ]
  },
  {
   "cell_type": "markdown",
   "id": "0ff8f4f3",
   "metadata": {},
   "source": [
    "## Example\n",
    "\n",
    "For year = 1905, the output should be\n",
    "centuryFromYear(year) = 20;\n",
    "For year = 1700, the output should be\n",
    "centuryFromYear(year) = 17.\n",
    "Input/Output\n",
    "\n",
    "[execution time limit] 4 seconds (py3)\n",
    "\n",
    "[input] integer year\n",
    "\n",
    "A positive integer, designating the year.\n",
    "\n",
    "# Guaranteed constraints:\n",
    "1 ≤ year ≤ 2005.\n",
    "\n",
    "[output] integer\n",
    "\n",
    "*The number of the century the year is in.*"
   ]
  },
  {
   "cell_type": "markdown",
   "id": "be80e8de",
   "metadata": {},
   "source": [
    "### [Python 3] Syntax Tips"
   ]
  },
  {
   "cell_type": "code",
   "execution_count": null,
   "id": "df459cd3",
   "metadata": {},
   "outputs": [],
   "source": [
    "# Prints help message to the console\n",
    "# Returns a string\n",
    "def helloWorld(name):\n",
    "    print \"This prints to the console when you Run Tests\"\n",
    "    return \"Hello, \" + name"
   ]
  },
  {
   "cell_type": "markdown",
   "id": "99d9bd97",
   "metadata": {},
   "source": [
    "## Given the string, check if it is a palindrome."
   ]
  },
  {
   "cell_type": "markdown",
   "id": "0db42ff3",
   "metadata": {},
   "source": [
    "# Example\n",
    "\n",
    "For inputString = \"aabaa\", the output should be\n",
    "checkPalindrome(inputString) = true;\n",
    "For inputString = \"abac\", the output should be\n",
    "checkPalindrome(inputString) = false;\n",
    "For inputString = \"a\", the output should be\n",
    "checkPalindrome(inputString) = true.\n",
    "\n",
    "# Input/Output\n",
    "\n",
    "[execution time limit] 4 seconds (py3)\n",
    "\n",
    "[input] string inputString\n",
    "\n",
    "**A non-empty string consisting of lowercase characters.**\n",
    "\n",
    "# Guaranteed constraints:\n",
    "1 ≤ inputString.length ≤ 105.\n",
    "\n",
    "[output] boolean\n",
    "\n",
    "*true if inputString is a palindrome, false otherwise.*"
   ]
  },
  {
   "cell_type": "markdown",
   "id": "22e424c2",
   "metadata": {},
   "source": [
    "### [Python 3] Syntax Tips"
   ]
  },
  {
   "cell_type": "code",
   "execution_count": null,
   "id": "211c5ef5",
   "metadata": {},
   "outputs": [],
   "source": [
    "# Prints help message to the console\n",
    "# Returns a string\n",
    "def helloWorld(name):\n",
    "    print \"This prints to the console when you Run Tests\"\n",
    "    return \"Hello, \" + name"
   ]
  }
 ],
 "metadata": {
  "kernelspec": {
   "display_name": "Python 3",
   "language": "python",
   "name": "python3"
  }
 },
 "nbformat": 4,
 "nbformat_minor": 5
}
