{
 "cells": [
  {
   "cell_type": "markdown",
   "id": "62a5f2f1",
   "metadata": {
    "slideshow": {
     "slide_type": "slide"
    }
   },
   "source": [
    "# 1. Introducción\n",
    "Similar a una cadena que puede almacenar un grupo de caracteres, se puede utilizar un arreglo (o vector) para almacenar un grupo de números, textos y/o valores booleanos. \n",
    "\n",
    "Los arreglos son extremadamente útiles para:\n",
    "- Agrupar datos.\n",
    "- Reducir la definición de variables.\n",
    "- Manipulación de la información.\n",
    "- Entre otros.\n",
    "\n",
    "Suponga que se desea almacenar el valor de 100 números enteros (edades de 100 personas). Con  lo visto hasta el momento, nos tocaría definir 100 variables numéricas, y almacenar en cada una de ellas el valor de cada edad de cada persona. Con un arreglo, podemos definir una sola variable, que contenga todas las 100 edades."
   ]
  },
  {
   "cell_type": "code",
   "execution_count": null,
   "id": "6577332b",
   "metadata": {
    "slideshow": {
     "slide_type": "fragment"
    }
   },
   "outputs": [],
   "source": [
    "#Sin arreglos\n",
    "edad1 = 34\n",
    "edad2 = 25\n",
    "edad3 = 16\n",
    "edad100 = 32"
   ]
  },
  {
   "cell_type": "markdown",
   "id": "51cf7cf5",
   "metadata": {
    "slideshow": {
     "slide_type": "subslide"
    }
   },
   "source": [
    "## Declaración de arreglos\n",
    "Los arreglos (o listas) en Python, son un tipo de dato que se utiliza para almacenar múltiples valores asociados a una sola variable.\n",
    "\n",
    "Para declarar un arreglo basta con: (i) definir una nueva variable, (ii) colocar el símbolo de “=“, (iii) agrupar los datos que queremos almacenar dentro de corchetes [].\n",
    "\n",
    "Veamos el siguiente ejemplo."
   ]
  },
  {
   "cell_type": "code",
   "execution_count": null,
   "id": "e3e7f6d6",
   "metadata": {
    "slideshow": {
     "slide_type": "fragment"
    }
   },
   "outputs": [],
   "source": [
    "edades = [34,25,16,32] #Arreglos\n",
    "textos = [\"Hola\",\"grupos\",\"82-83-84\"] #Arreglos\n",
    "variado = [500, \"Luisa\", True] #Listas\n",
    "x = [] #Arreglo vacio\n",
    "y = []*6 #Arreglo con 6 posiciones, sin valores de inicialización\n",
    "z = [1]*3 #Arreglo con 3 posiciones, inicializados con el valor 1\n",
    "\n",
    "print(edades)\n",
    "print(textos)\n",
    "print(variado)\n",
    "print(x)\n",
    "print(y)\n",
    "print(z)"
   ]
  },
  {
   "cell_type": "markdown",
   "id": "31e8e8a3",
   "metadata": {
    "slideshow": {
     "slide_type": "subslide"
    }
   },
   "source": [
    "•\tEjercicio [MiPrimerArreglo] -> Codifique el siguiente programa:\n",
    "- Solicite al usuario el tamaño del arreglo.\n",
    "- Cree un arreglo del tamaño deseado más una casilla adicional e inicialize los valores en cero."
   ]
  },
  {
   "cell_type": "code",
   "execution_count": null,
   "id": "ee5f1482",
   "metadata": {
    "slideshow": {
     "slide_type": "fragment"
    }
   },
   "outputs": [],
   "source": [
    "extension=int(input(\"Please, enter the longitude of your first array: \"))\n",
    "\n",
    "array= [0]*(extension+1)\n",
    "array[0]=extension\n",
    "print(array)\n"
   ]
  },
  {
   "cell_type": "markdown",
   "id": "e15035bd",
   "metadata": {
    "slideshow": {
     "slide_type": "slide"
    }
   },
   "source": [
    "# Utilizando Arreglos\n",
    "- Crear un vector:\n",
    "    - vector = $[0]*n$\n",
    "\n",
    "- Asignarle un valor a una posición del  vector:\n",
    "    - vector[i] = dato\n",
    "\n",
    "- Obtener el dato de alguna posición\n",
    "    - dato =  vector[i]"
   ]
  },
  {
   "cell_type": "markdown",
   "id": "c331847d",
   "metadata": {
    "slideshow": {
     "slide_type": "subslide"
    }
   },
   "source": [
    "### 1. Acceso a elementos de un arreglo\n",
    "Para acceder a un elemento individual de un arreglo, basta con colocar el nombre de la variable, seguido por corchetes [], y dentro de los corchetes colocar el índice del elemento al que se quiere acceder.\n",
    "\n",
    "Veamos el siguiente ejemplo:"
   ]
  },
  {
   "cell_type": "code",
   "execution_count": null,
   "id": "9535d237",
   "metadata": {
    "slideshow": {
     "slide_type": "fragment"
    }
   },
   "outputs": [],
   "source": [
    "edades = [34,25,16,32]\n",
    "textos = [\"Hola\",\"grupos\",\"82-83-84\"]\n",
    "numeros = [500, 400, 300]\n",
    "\n",
    "print(edades)\n",
    "print(textos[0],textos[1])\n",
    "print(edades[1]+numeros[0])\n",
    "print(edades[-1])\n",
    "print(textos[-2])\n",
    "print(textos[1:])\n",
    "print(textos[0:2])\n",
    "#print(numeros[3]) #Ojo, si ingresa un índice que esta por fuera generará error"
   ]
  },
  {
   "cell_type": "markdown",
   "id": "5feb97bb",
   "metadata": {
    "slideshow": {
     "slide_type": "subslide"
    }
   },
   "source": [
    "•\tEjercicio [RecorriendoArreglo] -> Codifique el siguiente programa:\n",
    "- Cree una función que reciba un arreglo, ese arreglo debe recorrerlo e imprimir su contenido.\n",
    "- Invoque su función enviando la variable textos."
   ]
  },
  {
   "cell_type": "code",
   "execution_count": null,
   "id": "ed380a57",
   "metadata": {
    "slideshow": {
     "slide_type": "fragment"
    }
   },
   "outputs": [],
   "source": [
    "def imprimeVector(arreglo):\n",
    " for i in arreglo:\n",
    "    print(i)\n",
    "\n",
    "edades = [34,25,16,32]\n",
    "textos = [\"Hola\",\"grupos\",\"82-83-84\"]\n",
    "numeros = [500, 400, 300]\n",
    "imprimeVector(numeros)\n",
    "imprimeVector(textos)\n",
    "imprimeVector(edades)\n",
    "print(edades)"
   ]
  },
  {
   "cell_type": "markdown",
   "id": "f5ce88e5",
   "metadata": {
    "slideshow": {
     "slide_type": "subslide"
    }
   },
   "source": [
    "### 2. len(arreglo)\n",
    "Similar al uso de cadenas, podemos utilizar el método len(arreglo) para retornar el número de elementos o valores del arreglo. \n"
   ]
  },
  {
   "cell_type": "code",
   "execution_count": null,
   "id": "5b42bf30",
   "metadata": {
    "slideshow": {
     "slide_type": "fragment"
    }
   },
   "outputs": [],
   "source": [
    "numeros = [1,2,3,4,5,9]\n",
    "print(len(numeros))\n",
    "#Cómo obtengo la última posición?\n",
    "\n",
    "print(numeros[-1]) #Contenido\n",
    "print(len(numeros)-1) #Última posición"
   ]
  },
  {
   "cell_type": "markdown",
   "id": "5b59c2c7",
   "metadata": {
    "slideshow": {
     "slide_type": "subslide"
    }
   },
   "source": [
    "### 3. Modificar elementos de un arreglo\n",
    "Para modificar datos de un arreglo basta con especificar la posición que se quiere modificar, y luego colocar un “=“, y finalmente el nuevo valor que se desea asignar."
   ]
  },
  {
   "cell_type": "code",
   "execution_count": 13,
   "id": "3dcd91f2",
   "metadata": {
    "slideshow": {
     "slide_type": "fragment"
    }
   },
   "outputs": [
    {
     "name": "stdout",
     "output_type": "stream",
     "text": [
      "['Hola', 'grupos', '82-83-84']\n",
      "['Hola', 'grupos', '82-83-84']\n",
      "['Hola', 'Camila', '82-83-84']\n"
     ]
    }
   ],
   "source": [
    "textos = [\"Hola\",\"grupos\",\"82-83-84\"]\n",
    "#textos2 = textos.copy()\n",
    "textos2 = textos[:]\n",
    "print(textos2)\n",
    "textos2[1] = \"Camila\"\n",
    "print(textos)\n",
    "print(textos2)"
   ]
  },
  {
   "cell_type": "markdown",
   "id": "7d190533",
   "metadata": {
    "slideshow": {
     "slide_type": "subslide"
    }
   },
   "source": [
    "•\tEjercicio [ModificandoArreglo] -> Codifique el siguiente programa:\n",
    "- Cree una función que reciba un arreglo, una posicion inicial y una posición final.\n",
    "    - En el arreglo recibido cambie los valores de las posiciones recibidas, es decir, la posición inicial debe contener el valor de la posición final, y la final debe contener el valor de la posición inicial.\n",
    "- Finalmente, invoque la función con la variable textos."
   ]
  },
  {
   "cell_type": "code",
   "execution_count": null,
   "id": "18d07609",
   "metadata": {
    "slideshow": {
     "slide_type": "fragment"
    }
   },
   "outputs": [],
   "source": [
    "def invertirPosicion(arreglo, inicial, final):\n",
    "    temp = arreglo[inicial]\n",
    "    arreglo[inicial] = arreglo[final]\n",
    "    arreglo[final] = temp\n",
    "\n",
    "edades = [34,25,16,32]\n",
    "textos = [\"Hola\",\"grupos\",\"82-83-84\"]\n",
    "numeros = [500, 400, 300]\n",
    "\n",
    "print(textos[::-1])\n",
    "invertirPosicion(edades,0,2)\n",
    "invertirPosicion(textos,0,1)\n",
    "print(edades)\n",
    "print(textos)"
   ]
  },
  {
   "cell_type": "markdown",
   "id": "9feaad60",
   "metadata": {
    "slideshow": {
     "slide_type": "subslide"
    }
   },
   "source": [
    "### Clase Random\n",
    "Devuelve un número aleatorio entre el rango dado."
   ]
  },
  {
   "cell_type": "code",
   "execution_count": null,
   "id": "975ff360",
   "metadata": {
    "slideshow": {
     "slide_type": "fragment"
    }
   },
   "outputs": [],
   "source": [
    "import random\n",
    "\n",
    "print(random.randint(3, 9))\n",
    "\n",
    "arreglo = [0]*6\n",
    "print(arreglo)\n",
    "arreglo[3] = random.randint(1, 5)\n",
    "print(arreglo)"
   ]
  },
  {
   "cell_type": "markdown",
   "id": "a506d482",
   "metadata": {
    "slideshow": {
     "slide_type": "subslide"
    }
   },
   "source": [
    "•\tEjercicio [construyeArreglo2] -> Codifique el siguiente programa:\n",
    "- Cree una función que reciba un arreglo y un número(tamaño del arreglo).\n",
    "- Almacene en la primera posición del arreglo el tamaño del arreglo.\n",
    "- Utilize un ciclo para llenar el resto del arreglo con números aleatorios entre 1 a 99.\n",
    "\n",
    "Por fuera de la función realice lo siguiente:\n",
    "- Solicite al usuario el tamaño del arreglo.\n",
    "- Cree un arreglo con el tamaño ingresado + 1, inicializando los valores en cero.\n",
    "- Invoque la función creada y finalmente imprima el resultado."
   ]
  },
  {
   "cell_type": "code",
   "execution_count": null,
   "id": "ce3f5195",
   "metadata": {
    "slideshow": {
     "slide_type": "fragment"
    }
   },
   "outputs": [],
   "source": [
    "import random\n",
    "\n",
    "def construyeArreglo(vector, longitud):\n",
    "    vector[0] = longitud\n",
    "    print(vector)\n",
    "    for i in range(1,longitud+1):\n",
    "        vector[i] = random.randint(1,99)\n",
    "        \n",
    "tamano = int(input(\"Ingrese num: \"))\n",
    "arreglo = [0]*(tamano+1)\n",
    "print(arreglo)\n",
    "construyeArreglo(arreglo,tamano)\n",
    "print(arreglo)\n"
   ]
  },
  {
   "cell_type": "markdown",
   "id": "9f873a74",
   "metadata": {
    "slideshow": {
     "slide_type": "subslide"
    }
   },
   "source": [
    "#### Ojo: Pasar (enviar) un objeto a un método es pasar la referencia del objeto. \n",
    "Cuando un objeto se pasa por referencia, esto implica que cualquier cambio que se haga a ese objeto dentro del método que recibe el objeto, tomará un efecto global. \n"
   ]
  },
  {
   "cell_type": "code",
   "execution_count": null,
   "id": "2e2d5846",
   "metadata": {
    "slideshow": {
     "slide_type": "fragment"
    }
   },
   "outputs": [],
   "source": [
    "def cuadrado(x):\n",
    "    x = x*x\n",
    "\n",
    "x = 10\n",
    "cuadrado(x)\n",
    "print(x)"
   ]
  },
  {
   "cell_type": "markdown",
   "id": "814969c9",
   "metadata": {
    "slideshow": {
     "slide_type": "subslide"
    }
   },
   "source": [
    "•\tEjercicio [variableGlobal] -> Codifique el siguiente programa:\n",
    "- Modifique el anterior código para que la variable x sea global dentro de la función cuadrado y así poder realizar cambios en la variable en un contexto local."
   ]
  },
  {
   "cell_type": "code",
   "execution_count": null,
   "id": "ffe5e3fe",
   "metadata": {
    "slideshow": {
     "slide_type": "fragment"
    }
   },
   "outputs": [],
   "source": [
    "def cuadrado():\n",
    "    global x\n",
    "    x = x*x\n",
    "\n",
    "x = 10\n",
    "cuadrado()\n",
    "print(x)"
   ]
  },
  {
   "cell_type": "code",
   "execution_count": null,
   "id": "5792157d",
   "metadata": {
    "slideshow": {
     "slide_type": "subslide"
    }
   },
   "outputs": [],
   "source": [
    "#El arreglo a, el parámetro vector y la variable arreglo comparten la misma referencia en memoria, por lo que si modifico arreglo se modifica a\n",
    "def intercambio(vector, ini, fin):\n",
    "    arreglo = vector\n",
    "    temp = arreglo[ini]\n",
    "    arreglo[ini]=arreglo[fin]\n",
    "    arreglo[fin]=temp    \n",
    "\n",
    "a = [10, 20, 30]\n",
    "intercambio(a, 0, 2)\n",
    "print(a)  "
   ]
  },
  {
   "cell_type": "code",
   "execution_count": null,
   "id": "36fb821d",
   "metadata": {
    "slideshow": {
     "slide_type": "fragment"
    }
   },
   "outputs": [],
   "source": [
    "#El arreglo a y el parámetro vector comparten la misma referencia en memoria, pero arreglo no, debido a que tiene una copia del arreglo\n",
    "def intercambio(vector, ini, fin):\n",
    "    arreglo = vector.copy()\n",
    "    temp = arreglo[ini]\n",
    "    arreglo[ini]=arreglo[fin]\n",
    "    arreglo[fin]=temp    \n",
    "\n",
    "a = [10, 20, 30]\n",
    "intercambio(a, 0, 2)\n",
    "print(a)  "
   ]
  },
  {
   "cell_type": "markdown",
   "id": "950e0f78",
   "metadata": {
    "slideshow": {
     "slide_type": "slide"
    }
   },
   "source": [
    "## Métodos que se pueden usar con arreglos (o listas)\n",
    "\n",
    "|Método||Descripción|\n",
    "| --- || --- |\n",
    "|append()||Agrega un elemento al final de la lista|\n",
    "|clear()||Elimina todos los elementos de la lista|\n",
    "|copy()||Devuelve una copia de la lista|\n",
    "|count()||Devuelve el número de elementos con el valor especificado|\n",
    "|extend()||Agrega los elementos de una lista (o cualquier iterable), al final de la lista actual|\n",
    "|index()||Devuelve el índice del primer elemento con el valor especificado|\n",
    "|insert()||Agrega un elemento en la posición especificada|\n",
    "|pop()||Elimina el elemento en la posición especificada|\n",
    "|remove()||Elimina el primer elemento con el valor especificado|\n",
    "|reverse()||Invierte el orden de la lista|\n",
    "|sort()||Ordena la lista|"
   ]
  },
  {
   "cell_type": "markdown",
   "id": "2aa550a1",
   "metadata": {
    "slideshow": {
     "slide_type": "subslide"
    }
   },
   "source": [
    "### 1. Añadir elementos a un arreglo\n",
    "- A un arreglo se le pueden añadir elementos mediante la función `append` o  `insert`.\n",
    "- En la función `append`, el nuevo valor será añadido al final del arreglo. En la función `insert` se debe enviar una posición específica.\n",
    "Veamos el siguiente ejemplo:"
   ]
  },
  {
   "cell_type": "code",
   "execution_count": null,
   "id": "603c0a9b",
   "metadata": {
    "slideshow": {
     "slide_type": "fragment"
    }
   },
   "outputs": [],
   "source": [
    "arreglo = []\n",
    "arreglo.append(600)\n",
    "print(arreglo[0])\n",
    "\n",
    "arreglo2 = [1,2]\n",
    "arreglo2.append(3)\n",
    "print(arreglo2[2])\n",
    "\n",
    "arreglo2.insert(2,300)\n",
    "print(arreglo2)"
   ]
  },
  {
   "cell_type": "markdown",
   "id": "15e2d08d",
   "metadata": {
    "slideshow": {
     "slide_type": "subslide"
    }
   },
   "source": [
    "#### La lógica detrás de esto"
   ]
  },
  {
   "cell_type": "code",
   "execution_count": null,
   "id": "343f3428",
   "metadata": {
    "slideshow": {
     "slide_type": "fragment"
    }
   },
   "outputs": [],
   "source": [
    "def agregarDato(d, V, n):\n",
    "    if esLleno(V, n):\n",
    "        return\n",
    "    V[0] = V[0] + 1\n",
    "    V[V[0]] = d\n",
    "\n",
    "def insertarDato(d, i, V, n):\n",
    "    if esLleno(V, n):\n",
    "        return\n",
    "     for j in range(V[0], i – 1, –1):\n",
    "         V[j + 1] = V[j]\n",
    "     V[i] = d\n",
    "     V[0] = V[0] + 1\n"
   ]
  },
  {
   "cell_type": "markdown",
   "id": "4c036f1c",
   "metadata": {
    "slideshow": {
     "slide_type": "subslide"
    }
   },
   "source": [
    "•\tEjercicio [agregarParesArreglo] -> Codifique el siguiente programa:\n",
    "- Cree una función que no reciba parámetros. Dentro de esta:\n",
    "    - Cree un arreglo vacio\n",
    "    - Utilize un ciclo que agregue en el arreglo los números pares del 10 al 20.\n",
    "    - Devuelva el arreglo creado\n",
    "- Fuera de la función, invoque la función creada e imprima el resultado.\n"
   ]
  },
  {
   "cell_type": "code",
   "execution_count": null,
   "id": "eb1d7a9f",
   "metadata": {
    "slideshow": {
     "slide_type": "fragment"
    }
   },
   "outputs": [],
   "source": [
    "def agregarPares():\n",
    "    arreglo = []\n",
    "    for i in range(10,21):\n",
    "        if(i%2==0):\n",
    "            arreglo.append(i)\n",
    "    return arreglo\n",
    "\n",
    "x = agregarPares()\n",
    "print(x)"
   ]
  },
  {
   "cell_type": "markdown",
   "id": "e1734823",
   "metadata": {
    "slideshow": {
     "slide_type": "subslide"
    }
   },
   "source": [
    "#### Comprensión de la lista\n",
    "La comprensión de listas ofrece una sintaxis más corta cuando desea crear una nueva lista basada en los valores de una lista existente."
   ]
  },
  {
   "cell_type": "code",
   "execution_count": null,
   "id": "8df151b1",
   "metadata": {
    "slideshow": {
     "slide_type": "fragment"
    }
   },
   "outputs": [],
   "source": [
    "a = [x for x in range(10, 21) if x%2 != 0]\n",
    "print(a)\n",
    "\n",
    "def agregarPares():\n",
    "    arreglo = []\n",
    "    for x in range(10,21):\n",
    "        if(x%2==0):\n",
    "            arreglo.append(i)\n",
    "    return arreglo\n",
    "\n",
    "a = [x for x in range(11)] #Arreglo con una secuencia de enteros del 0 al 10\n",
    "a = [i for i in range(0, 20, 3)]"
   ]
  },
  {
   "cell_type": "code",
   "execution_count": null,
   "id": "e36269db",
   "metadata": {},
   "outputs": [],
   "source": [
    "frutas = [\"manzana\", \"banana\", \"cherry\", \"kiwi\", \"mango\"]\n",
    "nueva = []\n",
    "\n",
    "for x in frutas:\n",
    "  if \"a\" in x:\n",
    "    nueva.append(x)\n",
    "print(nueva)\n",
    "\n",
    "#**********************************************************\n",
    "\n",
    "frutas = [\"manzana\", \"banana\", \"cherry\", \"kiwi\", \"mango\"]\n",
    "nueva = [x for x in frutas if \"a\" in x]\n",
    "print(nueva)"
   ]
  },
  {
   "cell_type": "markdown",
   "id": "42e5270d",
   "metadata": {
    "slideshow": {
     "slide_type": "subslide"
    }
   },
   "source": [
    "•\tEjercicio [agregarParesArregloIni] -> Modifique el código para que en la primera posición almacene la cantidad de elementos creados."
   ]
  },
  {
   "cell_type": "code",
   "execution_count": null,
   "id": "abe8a9a9",
   "metadata": {
    "slideshow": {
     "slide_type": "fragment"
    }
   },
   "outputs": [],
   "source": [
    "#Primera posición con la cantidad de elementos del arreglo\n",
    "def agregarPares():\n",
    "    arreglo = []\n",
    "    for i in range(10,21):\n",
    "        if(i%2==0):\n",
    "            arreglo.append(i)\n",
    "    return arreglo\n",
    "\n",
    "x = agregarPares()\n",
    "print(x)"
   ]
  },
  {
   "cell_type": "markdown",
   "id": "79f0a3ab",
   "metadata": {
    "slideshow": {
     "slide_type": "subslide"
    }
   },
   "source": [
    "### 2. Eliminar un elemento de un arreglo\n",
    "- Para eliminar un elemento de un arreglo se puede utilizar la función `pop` o `remove`.\n",
    "- A la función `pop` se le debe enviar la posición del elemento a eliminar. A la función `remove` se le debe enviar un valor especifico a eliminar.\n",
    "- Veamos el siguiente ejemplo:"
   ]
  },
  {
   "cell_type": "code",
   "execution_count": null,
   "id": "d66d6b29",
   "metadata": {
    "slideshow": {
     "slide_type": "fragment"
    }
   },
   "outputs": [],
   "source": [
    "textos = [\"Hola\",\"grupos\",\"82-83-84\"]\n",
    "print(textos[0])\n",
    "textos.pop(0)\n",
    "print(textos[0])\n",
    "print(textos)\n",
    "\n",
    "textos.remove(\"82-83-84\")\n",
    "print(textos)"
   ]
  },
  {
   "cell_type": "markdown",
   "id": "89db0651",
   "metadata": {
    "slideshow": {
     "slide_type": "subslide"
    }
   },
   "source": [
    "#### La lógica detrás de esto"
   ]
  },
  {
   "cell_type": "code",
   "execution_count": null,
   "id": "137d9fe3",
   "metadata": {
    "slideshow": {
     "slide_type": "fragment"
    }
   },
   "outputs": [],
   "source": [
    "def borrarDatoEnPosicion(i, V):\n",
    " for j in range(i, V[0]):\n",
    "     V[j] = V[j + 1]\n",
    " V[0] = V[0] -1\n",
    "\n",
    "def borrarDato(d, V):\n",
    " i = buscarDato(d, V)\n",
    " if i != -1:\n",
    "    borrarDatoEnPosicion(i, V)"
   ]
  },
  {
   "cell_type": "code",
   "execution_count": null,
   "id": "2c492f3b",
   "metadata": {
    "slideshow": {
     "slide_type": "fragment"
    }
   },
   "outputs": [],
   "source": [
    "def buscarDato(d, V):\n",
    " i = 1\n",
    " while i <= V[0] and V[i] != d:\n",
    "     i = i + 1\n",
    " if i <= V[0]:\n",
    "     return i\n",
    " return -1"
   ]
  },
  {
   "cell_type": "markdown",
   "id": "00bf5ead",
   "metadata": {
    "slideshow": {
     "slide_type": "subslide"
    }
   },
   "source": [
    "### 3. Resumen otras funciones"
   ]
  },
  {
   "cell_type": "code",
   "execution_count": null,
   "id": "6f867ce9",
   "metadata": {
    "slideshow": {
     "slide_type": "fragment"
    }
   },
   "outputs": [],
   "source": [
    "vector = [3, 8, 3, 6]\n",
    "textos = [\"Hola\",\"grupos\",\"82-83-84\"]\n",
    "\n",
    "vector.append(55) #añande un elemento al final del vector\n",
    "textos.append(\"HOLA\")\n",
    "vector.insert(3, 777) #inserta el elemento 777 en la posición 3\n",
    "vector.pop(0) #elimina elementos de la posición 0\n",
    "vector.remove(4) #elimina el primer elemento con el valor 4\n",
    "\n",
    "copia = vector.copy()#crea una copia de todo el vector\n",
    "copia2 = copia\n",
    "copia2.append(44)\n",
    "print(\"Imprime vector: \",vector)\n",
    "print(\"Imprime copia: \",copia)\n",
    "print(\"Imprime copia2: \",copia2)\n",
    "\n",
    "print(\"Imprime cantidad 4: \",vector.count(4)) #retorna el número de veces  el 4 en el vector\n",
    "print(\"Imprime cantidad Hola: \",textos.count(\"Hola\"))\n",
    "\n",
    "vector.extend([4, 4, 4, 4, 4, 5]) #Agrega elementos al final del arreglo\n",
    "print(vector.index(4)) #retorna la posición de la primera ocurrencia del 4 en el vector\n",
    "vector.reverse() #reversa el vector, o sea que lo pone al revés\n",
    "vector.sort() #ordena el vector de menor a mayor\n",
    "vector.sort(reverse=True) #ordena el vector de mayor a menor\n",
    "#print(vector.clear()) #elimina ttodos los elementos del vector"
   ]
  },
  {
   "cell_type": "markdown",
   "id": "9e212ca6",
   "metadata": {
    "slideshow": {
     "slide_type": "slide"
    }
   },
   "source": [
    "# Ordenamiento de Arreglos"
   ]
  },
  {
   "cell_type": "markdown",
   "id": "b12bf6d5",
   "metadata": {
    "slideshow": {
     "slide_type": "subslide"
    }
   },
   "source": [
    "## 1. Ordenamiento por selección\n",
    "- Supongamos que desea ordenar una lista en orden ascendente. La ordenación por selección (SelectSort) encuentra el número más pequeño en la lista y lo intercambia con el primer elemento.\n",
    "- Luego encuentra el número más pequeño de la lista que queda, y lo intercambia con el segundo elemento.\n",
    "- Y así sucesivamente, hasta que queda un solo número.\n",
    "\n",
    "<center><img src=\"Figures/S3-SelectionSort.png\" width=\"300\" height=\"400\"></center>"
   ]
  },
  {
   "cell_type": "code",
   "execution_count": null,
   "id": "abf79de4",
   "metadata": {
    "slideshow": {
     "slide_type": "fragment"
    }
   },
   "outputs": [],
   "source": [
    "def intercambiar(vector, ini, fin):\n",
    "    temp = vector[ini]\n",
    "    vector[ini]=vector[fin]\n",
    "    vector[fin]=temp \n",
    "\n",
    "#Primera posición sin la cantidad de elementos del arreglo\n",
    "def ordenaAscen(arreglo):\n",
    " for i in range(0, len(arreglo)-1):\n",
    "     menor = i\n",
    "     for j in range(i+1, len(arreglo)):\n",
    "         if arreglo[j] < arreglo[menor]:\n",
    "             menor = j\n",
    "     intercambiar(arreglo, i, menor)\n",
    "\n",
    "arreglo = [30,20,10,80,60]\n",
    "ordenaAscen(arreglo)\n",
    "print(arreglo)"
   ]
  },
  {
   "cell_type": "code",
   "execution_count": null,
   "id": "daee6594",
   "metadata": {},
   "outputs": [],
   "source": [
    "#Primera posición con la cantidad de elementos del arreglo\n",
    "def ordenaAscen(arreglo):\n",
    " longitud = arreglo[0] + 1\n",
    " for i in range(1, arreglo[0]):\n",
    "     menor = i\n",
    "     for j in range(i + 1, longitud):\n",
    "         if arreglo[j] < arreglo[menor]:\n",
    "             menor = j\n",
    "     intercambiar(arreglo, i, menor)\n",
    "    \n",
    "arreglo = [5,30,20,10,80,60]\n",
    "ordenaAscen(arreglo)\n",
    "print(arreglo)"
   ]
  },
  {
   "cell_type": "markdown",
   "id": "d407904b",
   "metadata": {
    "slideshow": {
     "slide_type": "subslide"
    }
   },
   "source": [
    "## 2. Ordenamiento por burbuja\n",
    "El ordenamiento burbuja ordena un arreglo en varias fases. En cada fase se intercambian sucesivamente los elementos vecinos si los elementos no están en orden.\n",
    "\n",
    "<center><img src=\"Figures/S3-BubbleSort.png\" width=\"500\" height=\"800\"></center>"
   ]
  },
  {
   "cell_type": "code",
   "execution_count": null,
   "id": "f955820a",
   "metadata": {
    "slideshow": {
     "slide_type": "fragment"
    }
   },
   "outputs": [],
   "source": [
    "#Primera posición sin la cantidad de elementos del arreglo\n",
    "def bubbleSort(arreglo):\n",
    " for i in range(0, len(arreglo)-1):\n",
    "     for j in range(0, (len(arreglo)-1)-i):\n",
    "         if arreglo[j] > arreglo[j + 1]:\n",
    "             intercambiar(arreglo, j, j + 1)\n",
    "\n",
    "arreglo = [2,5,9,4,8,1]\n",
    "bubbleSort(arreglo)\n",
    "print(arreglo)\n",
    "\n",
    "arreglo = [30,20,10,80,60]\n",
    "bubbleSort(arreglo)\n",
    "print(arreglo)"
   ]
  },
  {
   "cell_type": "code",
   "execution_count": null,
   "id": "2b9269a2",
   "metadata": {
    "slideshow": {
     "slide_type": "fragment"
    }
   },
   "outputs": [],
   "source": [
    "#Primera posición con la cantidad de elementos del arreglo\n",
    "def bubbleSort(arreglo):\n",
    " for i in range(1, arreglo[0]):\n",
    "     for j in range(1, (arreglo[0]-i)+1):\n",
    "         if arreglo[j] > arreglo[j + 1]:\n",
    "             intercambiar(arreglo, j, j + 1)\n",
    "\n",
    "arreglo = [6,2,5,9,4,8,1]\n",
    "bubbleSort(arreglo)\n",
    "print(arreglo)\n",
    "\n",
    "arreglo = [5,30,20,10,80,60]\n",
    "bubbleSort(arreglo)\n",
    "print(arreglo)"
   ]
  },
  {
   "cell_type": "markdown",
   "id": "f47d0e5d",
   "metadata": {
    "slideshow": {
     "slide_type": "subslide"
    }
   },
   "source": [
    "## 3. Método sort()\n",
    "El método sort() ordena la lista de forma ascendente por defecto."
   ]
  },
  {
   "cell_type": "code",
   "execution_count": null,
   "id": "59fb2aad",
   "metadata": {
    "slideshow": {
     "slide_type": "fragment"
    }
   },
   "outputs": [],
   "source": [
    "arreglo = [30,20,10,80,60]\n",
    "arreglo.sort()\n",
    "print(arreglo)\n",
    "\n",
    "arreglo2 = [30,20,10,80,60]\n",
    "arreglo2.sort(reverse=True)\n",
    "print(arreglo2)"
   ]
  },
  {
   "cell_type": "markdown",
   "id": "e9e62ba3",
   "metadata": {
    "slideshow": {
     "slide_type": "slide"
    }
   },
   "source": [
    "## Búsqueda en arreglos"
   ]
  },
  {
   "cell_type": "markdown",
   "id": "a0b25ef5",
   "metadata": {
    "slideshow": {
     "slide_type": "subslide"
    }
   },
   "source": [
    "## 1. Búsqueda lineal o secuencial\n",
    "Respecto al proceso de búsqueda en un arreglo (a menos que esté organizado de cierta manera), lo que podemos hacer es “revisar” elemento por elemento (comúnmente de izquierda a derecha). A este proceso se le llama búsqueda lineal. "
   ]
  },
  {
   "cell_type": "code",
   "execution_count": null,
   "id": "af763e32",
   "metadata": {
    "slideshow": {
     "slide_type": "fragment"
    }
   },
   "outputs": [],
   "source": [
    "#OPCION 1: Primera posición sin la cantidad de elementos del arreglo\n",
    "def buscarDato(arreglo,d):\n",
    " i = 0\n",
    " while i <= (len(arreglo)-1) and arreglo[i]!= d:\n",
    "      i = i + 1\n",
    " if i <= len(arreglo)-1:\n",
    "     return i\n",
    " return -1\n",
    "\n",
    "#OPCION 2:Primera posición sin la cantidad de elementos del arreglo\n",
    "def busLineal(arreglo, d):\n",
    " pos = -1\n",
    " for x in range(len(arreglo)-1):\n",
    "        if(d == arreglo[x]):\n",
    "            pos = x\n",
    "            break\n",
    " return pos\n",
    "\n",
    "arreglo = [10,20,30,40,50]\n",
    "print(buscarDato(arreglo,20))\n",
    "print(busLineal(arreglo,20))\n"
   ]
  },
  {
   "cell_type": "code",
   "execution_count": null,
   "id": "5f8028e4",
   "metadata": {},
   "outputs": [],
   "source": [
    "#Primera posición con la cantidad de elementos del arreglo\n",
    "def buscarDato(d, arreglo):\n",
    " i = 1\n",
    " while i <= arreglo[0] and arreglo[i]!= d:\n",
    "     i = i + 1\n",
    " if i <= arreglo[0]:\n",
    "     return i\n",
    " return -1\n",
    "\n",
    "arreglo = [5,10,20,30,40,50]\n",
    "print(busLineal(arreglo,20))"
   ]
  },
  {
   "attachments": {},
   "cell_type": "markdown",
   "id": "00966edf",
   "metadata": {},
   "source": [
    "## 2. Búsqueda binaria\n",
    "Supongamos que se tiene el siguiente arreglo “a” ordenado. Y que se desea encontrar la posición (índice) del elemento con valor 20.\n",
    "\n",
    "|0||1 ||2||3||4|\n",
    "| --- || --- || ---|| ---|| ---|\n",
    "|10||20 ||30||40||50|\n",
    "\n",
    "La búsqueda binaria primero comparará el valor del elemento en el medio con el valor a encontrar. Luego:\n",
    "- Si el valor a encontrar es menor que el valor del elemento central, debe continuar buscando la clave solo en la primera mitad del arreglo.\n",
    "- Si el valor a encontrar es igual al valor del elemento central, la búsqueda termina con una coincidencia.\n",
    "- Si el valor a encontrar es mayor que el valor elemento del central, debe continuar buscando la clave solo en la segunda mitad del arreglo.\n"
   ]
  },
  {
   "cell_type": "markdown",
   "id": "6f116383",
   "metadata": {
    "slideshow": {
     "slide_type": "subslide"
    }
   },
   "source": [
    "En el peor escenario, cuando k = log2n, solo quedará un elemento en la matriz, y solo se necesitaría una comparación más. Por esto, en este se debe realizar log2n+1 comparaciones. \n",
    "\n",
    "Comparación rápida. \n",
    "- En el peor escenario para una lista de 1024 elementos, si utilizamos búsqueda lineal, necesitaríamos 1023 comparaciones.\n",
    "- En el peor escenario para una lista de 1024 elementos (2^10), si utilizamos búsqueda binaria, solo necesitaríamos 11 comparaciones.\n",
    "\n",
    "<center><img src=\"Figures/S3-Binaria.png\" width=\"600\" height=\"800\"></center>"
   ]
  },
  {
   "cell_type": "code",
   "execution_count": null,
   "id": "0de5b4de",
   "metadata": {
    "slideshow": {
     "slide_type": "fragment"
    }
   },
   "outputs": [],
   "source": [
    "#Primera posición sin la cantidad de elementos del arreglo\n",
    "def busBinaria(arreglo, d):\n",
    " inicio = 0\n",
    " fin = len(arreglo)-1\n",
    " while inicio <= fin:\n",
    "     mitad = (inicio + fin) // 2\n",
    "     if arreglo[mitad] == d:\n",
    "         return mitad\n",
    "     if d < arreglo[mitad]:\n",
    "         fin = mitad - 1\n",
    "     else:\n",
    "         inicio = mitad + 1\n",
    " return -1\n",
    "\n",
    "arreglo = [10,20,30,40,50]\n",
    "print(busBinaria(arreglo,20))"
   ]
  },
  {
   "cell_type": "code",
   "execution_count": null,
   "id": "417926f7",
   "metadata": {
    "slideshow": {
     "slide_type": "fragment"
    }
   },
   "outputs": [],
   "source": [
    "#Primera posición con la cantidad de elementos del arreglo\n",
    "def busBinaria(arreglo, d):\n",
    " inicio = 1\n",
    " fin = arreglo[0]\n",
    " while inicio <= fin:\n",
    "     mitad = (inicio + fin) // 2\n",
    "     if arreglo[mitad] == d:\n",
    "         return mitad\n",
    "     if d < arreglo[mitad]:\n",
    "         fin = mitad - 1\n",
    "     else:\n",
    "         inicio = mitad + 1\n",
    " return -1\n",
    "\n",
    "arreglo = [5,10,20,30,40,50]\n",
    "print(busBinaria(arreglo,20))"
   ]
  },
  {
   "cell_type": "markdown",
   "id": "fffab3c4",
   "metadata": {
    "slideshow": {
     "slide_type": "slide"
    }
   },
   "source": [
    "# Ejercicios"
   ]
  },
  {
   "cell_type": "markdown",
   "id": "286ba097",
   "metadata": {
    "slideshow": {
     "slide_type": "subslide"
    }
   },
   "source": [
    "•\tEjercicio [construyeArreglo] -> Codifique el siguiente programa:\n",
    "- Cree una función que reciba un arreglo y un número(tamaño del arreglo).\n",
    "- Utilize un ciclo para llenar el arreglo con números aleatorios entre 1 a 99.\n",
    "\n",
    "Por fuera de la función realice lo siguiente:\n",
    "- Solicite al usuario el tamaño del arreglo.\n",
    "- Cree un arreglo con el tamaño ingresado, inicializando los valores en cero.\n",
    "- Invoque la función creada y finalmente imprima el resultado."
   ]
  },
  {
   "cell_type": "code",
   "execution_count": null,
   "id": "a1ee25db",
   "metadata": {
    "slideshow": {
     "slide_type": "fragment"
    }
   },
   "outputs": [],
   "source": []
  },
  {
   "cell_type": "markdown",
   "id": "c41d70ac",
   "metadata": {
    "slideshow": {
     "slide_type": "fragment"
    }
   },
   "source": [
    "•\tEjercicio [Arreglo1] -> Codifique el siguiente programa:\n",
    "- Pídale al usuario un número por pantalla\n",
    "- Pídale al usuario un texto por pantalla\n",
    "- Pídale al usuario otro número por pantalla.\n",
    "- Cree un nuevo arreglo donde la primera posición sea el primer número pedido, la segunda el texto pedido, y la tercera el segundo número pedido.\n",
    "- Imprima la primer posición del arreglo y la última por pantalla."
   ]
  },
  {
   "cell_type": "code",
   "execution_count": null,
   "id": "0c94dadf",
   "metadata": {
    "slideshow": {
     "slide_type": "fragment"
    }
   },
   "outputs": [],
   "source": []
  },
  {
   "cell_type": "markdown",
   "id": "78837038",
   "metadata": {
    "slideshow": {
     "slide_type": "fragment"
    }
   },
   "source": [
    "•\tEjercicio [Arreglo2] -> Codifique el siguiente programa:\n",
    "- Pídale al usuario un número por pantalla.\n",
    "- Pídale al usuario un texto por pantalla.\n",
    "- Cree un arreglo donde la primera posición sea el número ingresado, la segunda el texto ingresado, y a la tercera posición añádale el número 45.\n",
    "- Imprima el valor en posición 1.\n",
    "- Elimine el elemento en la posición 1.\n",
    "- Imprima nuevamente el valor en posición 1.\n",
    "- Imprima todo el arreglo (la variable donde se almacena)."
   ]
  },
  {
   "cell_type": "code",
   "execution_count": null,
   "id": "34e7fd13",
   "metadata": {
    "slideshow": {
     "slide_type": "fragment"
    }
   },
   "outputs": [],
   "source": []
  }
 ],
 "metadata": {
  "celltoolbar": "Slideshow",
  "kernelspec": {
   "display_name": "Python 3",
   "language": "python",
   "name": "python3"
  },
  "language_info": {
   "codemirror_mode": {
    "name": "ipython",
    "version": 3
   },
   "file_extension": ".py",
   "mimetype": "text/x-python",
   "name": "python",
   "nbconvert_exporter": "python",
   "pygments_lexer": "ipython3",
   "version": "3.9.0"
  },
  "rise": {
   "autolaunch": true,
   "backimage": "mybackimage.png",
   "scroll": true
  }
 },
 "nbformat": 4,
 "nbformat_minor": 5
}
