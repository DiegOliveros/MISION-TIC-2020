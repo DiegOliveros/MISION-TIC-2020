{
  "nbformat": 4,
  "nbformat_minor": 0,
  "metadata": {
    "colab": {
      "name": "codigo_vector_diapositivas.ipynb",
      "provenance": [],
      "collapsed_sections": []
    },
    "kernelspec": {
      "name": "python3",
      "display_name": "Python 3"
    },
    "language_info": {
      "name": "python"
    }
  },
  "cells": [
    {
      "cell_type": "markdown",
      "metadata": {
        "id": "NfkXwlWt3gJm"
      },
      "source": [
        "#**Ejemplo vector**\n",
        "\n"
      ]
    },
    {
      "cell_type": "markdown",
      "metadata": {
        "id": "z5a3fjKqOYXn"
      },
      "source": [
        "El codigo aca tomado es el de la semana 3, unidad 2."
      ]
    },
    {
      "cell_type": "markdown",
      "metadata": {
        "id": "6inWXFlRL09m"
      },
      "source": [
        "##**Funciones que operan sobre el vector**\n",
        "\n",
        "A continuación estan todas las funciones que operan sobre el vector (Estas se obtuvieron del material de clase):"
      ]
    },
    {
      "cell_type": "code",
      "metadata": {
        "id": "U2rUa7MYFXsx"
      },
      "source": [
        "import random\n",
        "\n",
        "def construyeVector(V, n, rango):\n",
        "  V[0] = n\n",
        "  for i in range(1, n + 1):\n",
        "    V[i] = random.randint(1, rango)\n",
        "\n",
        "\n",
        "def imprimeVector(V, mensaje = \"vector sin nombre: \\t\"):\n",
        "  print(\"\\n\", mensaje, end=\" \")\n",
        "  m = V[0] + 1\n",
        "  for i in range(1, m):\n",
        "    print(V[i], end = \", \")\n",
        "  print()\n",
        "\n",
        "def agregarDato(d, V, n):\n",
        "  if esLleno(V, n):\n",
        "    return\n",
        "  V[0] = V[0] + 1\n",
        "  V[V[0]] = d\n",
        "\n",
        "def intercambie(V, a, b):\n",
        "  aux = V[a]\n",
        "  V[a] = V[b]\n",
        "  V[b] = aux\n",
        "\n",
        "def sumaVector(V):\n",
        "  n = V[0] + 1\n",
        "  s = 0\n",
        "  for i in range(1, n):\n",
        "    s = s + V[i]\n",
        "  return s\n",
        "\n",
        "def mayorDato(V):\n",
        "  mayor = 1\n",
        "  for i in range(2, V[0] + 1):\n",
        "    if V[i] > V[mayor]:\n",
        "      mayor = i\n",
        "  return mayor\n",
        "\n",
        "def menorDato(V):\n",
        "  menor = 1\n",
        "  for i in range(2, V[0] + 1):\n",
        "    if V[i] < V[menor]:\n",
        "      menor = i\n",
        "  return menor\n",
        "\n",
        "def insertarDato(d, i, V, n):\n",
        "  if esLleno(V, n):\n",
        "    return\n",
        "  for j in range(V[0], i - 1, -1):\n",
        "    V[j + 1] = V[j]\n",
        "    V[i] = d\n",
        "    V[0] = V[0] + 1\n",
        "\n",
        "def borrarDatoEnPosicion(i, V):\n",
        "  for j in range(i, V[0]):\n",
        "    V[j] = V[j + 1]\n",
        "  V[0] = V[0] - 1\n",
        "\n",
        "def borrarDato(d, V):\n",
        "  i = buscarDato(d, V)\n",
        "  if i != -1:\n",
        "    borrarDatoEnPosicion(i, V)\n",
        "\n",
        "def buscarDato(d, V):\n",
        "  i = 1\n",
        "  while i <= V[0] and V[i] != d:\n",
        "    i = i + 1\n",
        "  if i <= V[0]:\n",
        "    return i\n",
        "  return -1\n",
        "\n",
        "def esLleno(V, n):\n",
        "  if V[0] == n:\n",
        "    return True\n",
        "  return False\n",
        "\n",
        "def esVacio(V):\n",
        "  if V[0] == 0:\n",
        "    return True\n",
        "  return False\n",
        "\n",
        "def ordenaAscen(V):\n",
        "  nn = V[0] + 1\n",
        "  for i in range(1, V[0]):\n",
        "    k = i\n",
        "    for j in range(i + 1, nn):\n",
        "      if V[j] < V[k]:\n",
        "        k = j\n",
        "      intercambie(V, i, k)\n",
        "\n"
      ],
      "execution_count": null,
      "outputs": []
    },
    {
      "cell_type": "markdown",
      "metadata": {
        "id": "MSl3YH2pGqDM"
      },
      "source": [
        "##**Ejemplos**\n",
        "A continuación se realizan algunos ejemplos en los que se hacen el test de las funciones."
      ]
    },
    {
      "cell_type": "markdown",
      "metadata": {
        "id": "G8luZ8jmMobw"
      },
      "source": [
        "###**Ejemplo 1**\n",
        "Crear un vector de tamaño 6 y Luego:\n",
        "1. Inicialice 3 elementos con numeros aleatorios entre 1 y 99. \n",
        "2. Muestre el vector\n",
        "3. Agregue un dato con valor de 69\n",
        "4. Imprima nuevamente el vector\n",
        "5. Obtenga la ubicación del mayor dato del vector.\n",
        "6. Obtenga la ubicación del menor dato del vector.\n",
        "7. Imprima un mensaje con las ubicacion del dato mayor y su valor.\n",
        "8. Imprima un mensaje con las ubicacion del dato menor y su valor. \n",
        "9. Intercambie los elementos mayor y menor.\n",
        "10. Imprima nuevamente el vector\n",
        "11. Ordenar el vector en orden ascendente\n",
        "12. Imprima nuevamente el vector"
      ]
    },
    {
      "cell_type": "code",
      "metadata": {
        "colab": {
          "base_uri": "https://localhost:8080/"
        },
        "id": "hC1PbOvHGqgg",
        "outputId": "dd21c683-8235-4bc9-c0cf-f9cae8e81a53"
      },
      "source": [
        "tamagno = 6\n",
        "vec1 = [0] * (tamagno + 1)                                          # Reserva de 7 espacios [0, 0, 0, 0, 0, 0, 0]\n",
        "construyeVector(vec1, 3, 99)                                        # Vector de 3 elementos [3, ?, ?, ?] \n",
        "                                                                    #                        |\n",
        "                                                                    #                        |\n",
        "                                                                    #                        |----- El primer elemento de la lista es el tamaño del vector \n",
        "\n",
        "imprimeVector(vec1, \"vector vec1:\\t\")                               # Se imprime el vector \n",
        "                                                                    #     vector vec1:\t ?, ?, ?,\n",
        "agregarDato(69, vec1, tamagno)                                      # Vector de 4 elementos [4, ?, ?, ?, ?] \n",
        "imprimeVector(vec1, \"vector vec1 después de agregar dato:\\t\")       # Se imprime el vector \n",
        "                                                                    #     vector vec1 después de agregar dato:\t ?, ?, ?, ?, \n",
        "mayor = mayorDato(vec1)                                             # Se obtiene la posición del elemento mayor\n",
        "menor = menorDato(vec1)                                             # Se obtiene la posición del elemento menor\n",
        "\n",
        "# Imprimiendo los elementos mayores y menores y su ubicación\n",
        "print(\"\\n el mayor está en la posición\", mayor, \" y es\", vec1[mayor], end = \" \")\n",
        "print(\"y el menor está en la posición\", menor, \"y es\", vec1[menor])    \n",
        "# Intercambio entre 2 elementos del vector\n",
        "intercambie(vec1, mayor, menor)\n",
        "imprimeVector(vec1, \"vector vec1 después de intercambiar mayor con menor\")\n",
        "# Ordenar en orden ascendente\n",
        "ordenaAscen(vec1)\n",
        "imprimeVector(vec1, \"vector vec1 después de ordenarlo\")\n"
      ],
      "execution_count": null,
      "outputs": [
        {
          "output_type": "stream",
          "text": [
            "\n",
            " vector vec1:\t 23, 50, 13, \n",
            "\n",
            " vector vec1 después de agregar dato:\t 23, 50, 13, 69, \n",
            "\n",
            " el mayor está en la posición 4  y es 69 y el menor está en la posición 3 y es 13\n",
            "\n",
            " vector vec1 después de intercambiar mayor con menor 23, 50, 69, 13, \n",
            "\n",
            " vector vec2 después de ordenarlo 13, 23, 50, 69, \n"
          ],
          "name": "stdout"
        }
      ]
    },
    {
      "cell_type": "markdown",
      "metadata": {
        "id": "YxjulqHmPFXI"
      },
      "source": [
        "La simulación del codigo anterior se muestra en el siguiente [link](http://pythontutor.com/visualize.html#code=import%20random%0A%0A%23%20------------------------------%20Funciones%20------------------------------%0A%0A%0Adef%20construyeVector%28V,%20n,%20rango%29%3A%0A%20%20V%5B0%5D%20%3D%20n%0A%20%20for%20i%20in%20range%281,%20n%20%2B%201%29%3A%0A%20%20%20%20V%5Bi%5D%20%3D%20random.randint%281,%20rango%29%0A%0A%0Adef%20imprimeVector%28V,%20mensaje%20%3D%20%22vector%20sin%20nombre%3A%20%5Ct%22%29%3A%0A%20%20print%28%22%5Cn%22,%20mensaje,%20end%3D%22%20%22%29%0A%20%20m%20%3D%20V%5B0%5D%20%2B%201%0A%20%20for%20i%20in%20range%281,%20m%29%3A%0A%20%20%20%20print%28V%5Bi%5D,%20end%20%3D%20%22,%20%22%29%0A%20%20print%28%29%0A%0Adef%20agregarDato%28d,%20V,%20n%29%3A%0A%20%20if%20esLleno%28V,%20n%29%3A%0A%20%20%20%20return%0A%20%20V%5B0%5D%20%3D%20V%5B0%5D%20%2B%201%0A%20%20V%5BV%5B0%5D%5D%20%3D%20d%0A%0Adef%20intercambie%28V,%20a,%20b%29%3A%0A%20%20aux%20%3D%20V%5Ba%5D%0A%20%20V%5Ba%5D%20%3D%20V%5Bb%5D%0A%20%20V%5Bb%5D%20%3D%20aux%0A%0Adef%20sumaVector%28V%29%3A%0A%20%20n%20%3D%20V%5B0%5D%20%2B%201%0A%20%20s%20%3D%200%0A%20%20for%20i%20in%20range%281,%20n%29%3A%0A%20%20%20%20s%20%3D%20s%20%2B%20V%5Bi%5D%0A%20%20return%20s%0A%0Adef%20mayorDato%28V%29%3A%0A%20%20mayor%20%3D%201%0A%20%20for%20i%20in%20range%282,%20V%5B0%5D%20%2B%201%29%3A%0A%20%20%20%20if%20V%5Bi%5D%20%3E%20V%5Bmayor%5D%3A%0A%20%20%20%20%20%20mayor%20%3D%20i%0A%20%20return%20mayor%0A%0Adef%20menorDato%28V%29%3A%0A%20%20menor%20%3D%201%0A%20%20for%20i%20in%20range%282,%20V%5B0%5D%20%2B%201%29%3A%0A%20%20%20%20if%20V%5Bi%5D%20%3C%20V%5Bmenor%5D%3A%0A%20%20%20%20%20%20menor%20%3D%20i%0A%20%20return%20menor%0A%0Adef%20insertarDato%28d,%20i,%20V,%20n%29%3A%0A%20%20if%20esLleno%28V,%20n%29%3A%0A%20%20%20%20return%0A%20%20for%20j%20in%20range%28V%5B0%5D,%20i%20-%201,%20-1%29%3A%0A%20%20%20%20V%5Bj%20%2B%201%5D%20%3D%20V%5Bj%5D%0A%20%20%20%20V%5Bi%5D%20%3D%20d%0A%20%20%20%20V%5B0%5D%20%3D%20V%5B0%5D%20%2B%201%0A%0Adef%20borrarDatoEnPosicion%28i,%20V%29%3A%0A%20%20for%20j%20in%20range%28i,%20V%5B0%5D%29%3A%0A%20%20%20%20V%5Bj%5D%20%3D%20V%5Bj%20%2B%201%5D%0A%20%20V%5B0%5D%20%3D%20V%5B0%5D%20-%201%0A%0Adef%20borrarDato%28d,%20V%29%3A%0A%20%20i%20%3D%20buscarDato%28d,%20V%29%0A%20%20if%20i%20!%3D%20-1%3A%0A%20%20%20%20borrarDatoEnPosicion%28i,%20V%29%0A%0Adef%20buscarDato%28d,%20V%29%3A%0A%20%20i%20%3D%201%0A%20%20while%20i%20%3C%3D%20V%5B0%5D%20and%20V%5Bi%5D%20!%3D%20d%3A%0A%20%20%20%20i%20%3D%20i%20%2B%201%0A%20%20if%20i%20%3C%3D%20V%5B0%5D%3A%0A%20%20%20%20return%20i%0A%20%20return%20-1%0A%0Adef%20esLleno%28V,%20n%29%3A%0A%20%20if%20V%5B0%5D%20%3D%3D%20n%3A%0A%20%20%20%20return%20True%0A%20%20return%20False%0A%0Adef%20esVacio%28V%29%3A%0A%20%20if%20V%5B0%5D%20%3D%3D%200%3A%0A%20%20%20%20return%20True%0A%20%20return%20False%0A%0Adef%20ordenaAscen%28V%29%3A%0A%20%20nn%20%3D%20V%5B0%5D%20%2B%201%0A%20%20for%20i%20in%20range%281,%20V%5B0%5D%29%3A%0A%20%20%20%20k%20%3D%20i%0A%20%20%20%20for%20j%20in%20range%28i%20%2B%201,%20nn%29%3A%0A%20%20%20%20%20%20if%20V%5Bj%5D%20%3C%20V%5Bk%5D%3A%0A%20%20%20%20%20%20%20%20k%20%3D%20j%0A%20%20%20%20%20%20intercambie%28V,%20i,%20k%29%0A%0A%23%20------------------------------%20Codigo%20principal%20------------------------------%0A%20%20%20%20%20%20%0Atamagno%20%3D%206%0Avec1%20%3D%20%5B0%5D%20*%20%28tamagno%20%2B%201%29%20%20%20%20%20%20%20%20%20%20%20%20%20%20%20%20%20%20%20%20%20%20%20%20%20%20%20%20%20%20%20%20%20%20%20%20%20%20%20%20%20%20%23%20Reserva%20de%207%20espacios%20%5B0,%200,%200,%200,%200,%200,%200%5D%0AconstruyeVector%28vec1,%203,%2099%29%20%20%20%20%20%20%20%20%20%20%20%20%20%20%20%20%20%20%20%20%20%20%20%20%20%20%20%20%20%20%20%20%20%20%20%20%20%20%20%20%23%20Vector%20de%203%20elementos%20%5B3,%20%3F,%20%3F,%20%3F%5D%20%0A%20%20%20%20%20%20%20%20%20%20%20%20%20%20%20%20%20%20%20%20%20%20%20%20%20%20%20%20%20%20%20%20%20%20%20%20%20%20%20%20%20%20%20%20%20%20%20%20%20%20%20%20%20%20%20%20%20%20%20%20%20%20%20%20%20%20%20%20%23%20%20%20%20%20%20%20%20%20%20%20%20%20%20%20%20%20%20%20%20%20%20%20%20%7C%0A%20%20%20%20%20%20%20%20%20%20%20%20%20%20%20%20%20%20%20%20%20%20%20%20%20%20%20%20%20%20%20%20%20%20%20%20%20%20%20%20%20%20%20%20%20%20%20%20%20%20%20%20%20%20%20%20%20%20%20%20%20%20%20%20%20%20%20%20%23%20%20%20%20%20%20%20%20%20%20%20%20%20%20%20%20%20%20%20%20%20%20%20%20%7C%0A%20%20%20%20%20%20%20%20%20%20%20%20%20%20%20%20%20%20%20%20%20%20%20%20%20%20%20%20%20%20%20%20%20%20%20%20%20%20%20%20%20%20%20%20%20%20%20%20%20%20%20%20%20%20%20%20%20%20%20%20%20%20%20%20%20%20%20%20%23%20%20%20%20%20%20%20%20%20%20%20%20%20%20%20%20%20%20%20%20%20%20%20%20%7C-----%20El%20primer%20elemento%20de%20la%20lista%20es%20el%20tama%C3%B1o%20del%20vector%20%0A%0AimprimeVector%28vec1,%20%22vector%20vec1%3A%5Ct%22%29%20%20%20%20%20%20%20%20%20%20%20%20%20%20%20%20%20%20%20%20%20%20%20%20%20%20%20%20%20%20%20%23%20Se%20imprime%20el%20vector%20%0A%20%20%20%20%20%20%20%20%20%20%20%20%20%20%20%20%20%20%20%20%20%20%20%20%20%20%20%20%20%20%20%20%20%20%20%20%20%20%20%20%20%20%20%20%20%20%20%20%20%20%20%20%20%20%20%20%20%20%20%20%20%20%20%20%20%20%20%20%23%20%20%20%20%20vector%20vec1%3A%20%20%20%20%20%3F,%20%3F,%20%3F,%0AagregarDato%2869,%20vec1,%20tamagno%29%20%20%20%20%20%20%20%20%20%20%20%20%20%20%20%20%20%20%20%20%20%20%20%20%20%20%20%20%20%20%20%20%20%20%20%20%20%20%23%20Vector%20de%204%20elementos%20%5B4,%20%3F,%20%3F,%20%3F,%20%3F%5D%20%0AimprimeVector%28vec1,%20%22vector%20vec1%20despu%C3%A9s%20de%20agregar%20dato%3A%5Ct%22%29%20%20%20%20%20%20%20%23%20Se%20imprime%20el%20vector%20%0A%20%20%20%20%20%20%20%20%20%20%20%20%20%20%20%20%20%20%20%20%20%20%20%20%20%20%20%20%20%20%20%20%20%20%20%20%20%20%20%20%20%20%20%20%20%20%20%20%20%20%20%20%20%20%20%20%20%20%20%20%20%20%20%20%20%20%20%20%23%20%20%20%20%20vector%20vec1%20despu%C3%A9s%20de%20agregar%20dato%3A%20%20%20%20%20%3F,%20%3F,%20%3F,%20%3F,%20%0Amayor%20%3D%20mayorDato%28vec1%29%20%20%20%20%20%20%20%20%20%20%20%20%20%20%20%20%20%20%20%20%20%20%20%20%20%20%20%20%20%20%20%20%20%20%20%20%20%20%20%20%20%20%20%20%20%23%20Se%20obtiene%20la%20posici%C3%B3n%20del%20elemento%20mayor%0Amenor%20%3D%20menorDato%28vec1%29%20%20%20%20%20%20%20%20%20%20%20%20%20%20%20%20%20%20%20%20%20%20%20%20%20%20%20%20%20%20%20%20%20%20%20%20%20%20%20%20%20%20%20%20%20%23%20Se%20obtiene%20la%20posici%C3%B3n%20del%20elemento%20menor%0A%0A%23%20Imprimiendo%20los%20elementos%20mayores%20y%20menores%20y%20su%20ubicaci%C3%B3n%0Aprint%28%22%5Cn%20el%20mayor%20est%C3%A1%20en%20la%20posici%C3%B3n%22,%20mayor,%20%22%20y%20es%22,%20vec1%5Bmayor%5D,%20end%20%3D%20%22%20%22%29%0Aprint%28%22y%20el%20menor%20est%C3%A1%20en%20la%20posici%C3%B3n%22,%20menor,%20%22y%20es%22,%20vec1%5Bmenor%5D%29%20%20%20%20%0A%23%20Intercambio%20entre%202%20elementos%20del%20vector%0Aintercambie%28vec1,%20mayor,%20menor%29%0AimprimeVector%28vec1,%20%22vector%20vec1%20despu%C3%A9s%20de%20intercambiar%20mayor%20con%20menor%22%29%0A%23%20Ordenar%20en%20orden%20ascendente%0AordenaAscen%28vec1%29%0AimprimeVector%28vec1,%20%22vector%20vec1%20despu%C3%A9s%20de%20ordenarlo%22%29&cumulative=false&curInstr=0&heapPrimitives=nevernest&mode=display&origin=opt-frontend.js&py=3&rawInputLstJSON=%5B%5D&textReferences=false)"
      ]
    },
    {
      "cell_type": "markdown",
      "metadata": {
        "id": "GOmrTNOqGrBu"
      },
      "source": [
        "###**Ejemplo 2**\n",
        "Ejecute y comprenda el fragmento de codigo tomado de las diapositivas del curso, mostrado a continuación"
      ]
    },
    {
      "cell_type": "code",
      "metadata": {
        "colab": {
          "base_uri": "https://localhost:8080/"
        },
        "id": "IMAovrLiGrYh",
        "outputId": "594077dc-e26d-40b8-b89f-5c40819e235b"
      },
      "source": [
        "tamagno = 30\n",
        "vec2 = [0] * (tamagno + 1)\n",
        "construyeVector(vec2, 16, 99)\n",
        "imprimeVector(vec2, \"vector vec1:\\t\")\n",
        "agregarDato(69, vec2, tamagno)\n",
        "imprimeVector(vec2, \"vector vec1 después de agregar dato:\\t\")\n",
        "mayor = mayorDato(vec2)\n",
        "menor = menorDato(vec2)\n",
        "print(\"\\n el mayor está en la posición\", mayor, \" y es\", vec2[mayor], end = \" \")\n",
        "print(\"y el menor está en la posición\", menor, \"y es\", vec2[menor])\n",
        "intercambie(vec2, mayor, menor)\n",
        "imprimeVector(vec2, \"vector vec1 después de intercambiar mayor con menor\")"
      ],
      "execution_count": null,
      "outputs": [
        {
          "output_type": "stream",
          "text": [
            "\n",
            " vector vec1:\t 8, 71, 6, 82, 49, 9, 62, 32, 13, 15, 50, 10, 68, 1, 57, 12, \n",
            "\n",
            " vector vec1 después de agregar dato:\t 8, 71, 6, 82, 49, 9, 62, 32, 13, 15, 50, 10, 68, 1, 57, 12, 69, \n",
            "\n",
            " el mayor está en la posición 4  y es 82 y el menor está en la posición 14 y es 1\n",
            "\n",
            " vector vec1 después de intercambiar mayor con menor 8, 71, 6, 1, 49, 9, 62, 32, 13, 15, 50, 10, 68, 82, 57, 12, 69, \n"
          ],
          "name": "stdout"
        }
      ]
    },
    {
      "cell_type": "markdown",
      "metadata": {
        "id": "w2WgZ_8rHsyT"
      },
      "source": [
        "###**Ejemplo 3**\n",
        "Ejecute y comprenda el fragmento de codigo tomado de las diapositivas del curso, mostrado a continuación"
      ]
    },
    {
      "cell_type": "code",
      "metadata": {
        "colab": {
          "base_uri": "https://localhost:8080/"
        },
        "id": "aa5OJ4pMHtNS",
        "outputId": "264b3eaa-6008-4831-ff97-f6d93a532b10"
      },
      "source": [
        "tamagno = 100\n",
        "vec3 = [0] * (tamagno + 1)\n",
        "construyeVector(vec3, 26, 999)\n",
        "imprimeVector(vec3, \"vector vec2\")\n",
        "insertarDato(69, 2, vec3, tamagno)\n",
        "imprimeVector(vec3, \"vector vec2 después de insertar dato\\t\")\n",
        "ordenaAscen(vec3)\n",
        "imprimeVector(vec3, \"vector vec2 después de ordenarlo\")"
      ],
      "execution_count": null,
      "outputs": [
        {
          "output_type": "stream",
          "text": [
            "\n",
            " vector vec2 373, 249, 404, 935, 127, 870, 891, 462, 321, 882, 946, 399, 595, 360, 184, 304, 23, 699, 164, 995, 721, 944, 307, 975, 302, 780, \n",
            "\n",
            " vector vec2 después de insertar dato\t 373, 69, 69, 404, 935, 127, 870, 891, 462, 321, 882, 946, 399, 595, 360, 184, 304, 23, 699, 164, 995, 721, 944, 307, 975, 302, 780, 0, 0, 0, 0, 0, 0, 0, 0, 0, 0, 0, 0, 0, 0, 0, 0, 0, 0, 0, 0, 0, 0, 0, 0, \n",
            "\n",
            " vector vec2 después de ordenarlo 0, 0, 0, 0, 0, 0, 0, 0, 0, 0, 0, 0, 0, 0, 0, 0, 0, 0, 0, 0, 0, 0, 0, 0, 23, 69, 69, 127, 164, 184, 302, 304, 307, 321, 360, 373, 404, 399, 462, 595, 699, 721, 780, 870, 882, 891, 935, 944, 946, 975, 995, \n"
          ],
          "name": "stdout"
        }
      ]
    }
  ]
}